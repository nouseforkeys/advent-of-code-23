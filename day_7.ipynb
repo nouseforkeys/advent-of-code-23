{
 "cells": [
  {
   "cell_type": "markdown",
   "metadata": {},
   "source": [
    "# Day 7\n",
    "\n",
    "## Part 1\n",
    "\n",
    "- The deck contains: A, K, Q, J, 9, 8, 7, 6, 5, 4, 3, 2\n",
    "- That is the order of priority\n",
    "- Sort hands by strength to determine their ranks (higher = higher rank value)\n",
    "- Find the sum of the products of ranks and bids to get the answer."
   ]
  },
  {
   "cell_type": "code",
   "execution_count": 6,
   "metadata": {},
   "outputs": [],
   "source": [
    "from dataclasses import dataclass\n",
    "\n",
    "from advent_of_code_utils.advent_of_code_utils import (\n",
    "    ParseConfig, parse_from_file, markdown\n",
    ")"
   ]
  },
  {
   "cell_type": "code",
   "execution_count": 5,
   "metadata": {},
   "outputs": [
    {
     "name": "stdout",
     "output_type": "stream",
     "text": [
      "[['K99QT', 53], ['TKQ7T', 320], ['22A7J', 490], ['267J9', 69...\n"
     ]
    }
   ],
   "source": [
    "parser = ParseConfig('\\n', ParseConfig(' ', [str, int]))\n",
    "\n",
    "raw_input = parse_from_file('puzzle_input\\\\day_7.txt', parser)\n",
    "\n",
    "print(f'{str(raw_input)[:60]}...')"
   ]
  },
  {
   "cell_type": "markdown",
   "metadata": {},
   "source": [
    "The plan is to sort the hands in 2 stages using built in python sorting.\n",
    "\n",
    "The type of each hand gives a primary rank. Once hands are grouped by rank they can then be secondarily ranked by assigning a unique value to each possibly combination where each subsequent card is a lower power. In this way the types can then be internally ranked and the whole list can be "
   ]
  },
  {
   "cell_type": "code",
   "execution_count": 7,
   "metadata": {},
   "outputs": [
    {
     "name": "stdout",
     "output_type": "stream",
     "text": [
      "[1, 12, 144, 1728, 20736, 248832, 2985984]\n"
     ]
    }
   ],
   "source": [
    "card_scores = {\n",
    "    2: 2,\n",
    "    3: 3,\n",
    "    4: 4,\n",
    "    5: 5,\n",
    "    6: 6,\n",
    "    7: 7,\n",
    "    8: 8,\n",
    "    9: 9,\n",
    "    'J': 10,\n",
    "    'Q': 11,\n",
    "    'K': 12,\n",
    "    'A': 13,\n",
    "}\n",
    "# pre-calculate some values\n",
    "n_cards = len(card_scores)\n",
    "card_mags = [n_cards**index for index in range(5 + 1)]\n",
    "\n",
    "hand_types = {\n",
    "    'Five of a kind': 7,\n",
    "    'Four of a kind': 6,\n",
    "    'Full house': 5,\n",
    "    'Three of a kind': 4,\n",
    "    'Two pair': 3,\n",
    "    'One pair': 2,\n",
    "    'High card': 1\n",
    "}\n",
    "\n",
    "@dataclass\n",
    "class Hand:\n",
    "    cards: str\n",
    "    bid: int\n",
    "\n",
    "    @property\n",
    "    def value(self) -> int:\n",
    "        \"\"\"\n",
    "        creates an overall value of the hand for use in sorting.\n",
    "        \n",
    "        let len(card_scores) be n\n",
    "\n",
    "        Then the value of a hand is:\n",
    "            type * n^5 + card[0] * n^4 + card[1] * n^3 + ... + card[5] * n^0\n",
    "        \"\"\"\n",
    "        return card_mags[5] * self.type + self.secondary\n",
    "\n",
    "    @property\n",
    "    def type(self) -> int:\n",
    "        \"\"\"returns the primary rank of this hand by determining its type\"\"\"\n",
    "        quantities = {}\n",
    "        # for card in \n",
    "\n",
    "    @property\n",
    "    def secondary(self) -> int:\n",
    "        \"\"\"\n",
    "        returns the secondary ranking of this hand. use this to compare to\n",
    "        others of the same primary rank.\n",
    "        \"\"\"\n",
    "        return sum([\n",
    "            card_scores[card] * card_mags[5 - index]\n",
    "            for index, card in enumerate(self.cards)\n",
    "        ])\n"
   ]
  }
 ],
 "metadata": {
  "kernelspec": {
   "display_name": ".venv",
   "language": "python",
   "name": "python3"
  },
  "language_info": {
   "codemirror_mode": {
    "name": "ipython",
    "version": 3
   },
   "file_extension": ".py",
   "mimetype": "text/x-python",
   "name": "python",
   "nbconvert_exporter": "python",
   "pygments_lexer": "ipython3",
   "version": "3.12.0"
  }
 },
 "nbformat": 4,
 "nbformat_minor": 2
}
