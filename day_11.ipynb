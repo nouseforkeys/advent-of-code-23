{
 "cells": [
  {
   "cell_type": "markdown",
   "metadata": {},
   "source": [
    "# Day 11\n",
    "\n",
    "## Part 1\n",
    "\n",
    "- Find the sum of the manhattan distances between all pairs of galaxies\n",
    "- empty rows and columns count for double"
   ]
  },
  {
   "cell_type": "code",
   "execution_count": 70,
   "metadata": {},
   "outputs": [],
   "source": [
    "from copy import deepcopy\n",
    "\n",
    "from matplotlib import pyplot as plt\n",
    "import numpy as np\n",
    "from tqdm import tqdm\n",
    "\n",
    "from advent_of_code_utils.advent_of_code_utils import (\n",
    "    parse_from_file, ParseConfig, markdown\n",
    ")"
   ]
  },
  {
   "cell_type": "code",
   "execution_count": 71,
   "metadata": {},
   "outputs": [],
   "source": [
    "def parse_galaxy(pixel: str) -> int:\n",
    "    \"\"\"converts a pixel to an integer encoding its content\"\"\"\n",
    "    match (pixel):\n",
    "        case '#':\n",
    "            return 10\n",
    "        case _:\n",
    "            return 0\n",
    "\n",
    "parser = ParseConfig('\\n', ParseConfig('', parse_galaxy))\n",
    "\n",
    "raw_image = parse_from_file('puzzle_input\\\\day_11.txt', parser)"
   ]
  },
  {
   "cell_type": "code",
   "execution_count": 72,
   "metadata": {},
   "outputs": [
    {
     "data": {
      "image/png": "[encoded data removed]",
      "text/plain": [
       "<Figure size 640x480 with 1 Axes>"
      ]
     },
     "metadata": {},
     "output_type": "display_data"
    }
   ],
   "source": [
    "def plot_image(image: list[list[int]], title: str) -> None:\n",
    "    \"\"\"creates a pcolormesh of the pixel array\"\"\"\n",
    "    fig, ax = plt.subplots()\n",
    "    ax.pcolormesh(np.flipud(image))\n",
    "    ax.set_xticks([])\n",
    "    ax.set_yticks([])\n",
    "    ax.set_title(title)\n",
    "\n",
    "plot_image(raw_image, 'I\\'m seeing stars')"
   ]
  },
  {
   "cell_type": "code",
   "execution_count": 73,
   "metadata": {},
   "outputs": [
    {
     "data": {
      "image/png": "[encoded data removed]",
      "text/plain": [
       "<Figure size 640x480 with 1 Axes>"
      ]
     },
     "metadata": {},
     "output_type": "display_data"
    },
    {
     "data": {
      "image/png": "[encoded data removed]",
      "text/plain": [
       "<Figure size 640x480 with 1 Axes>"
      ]
     },
     "metadata": {},
     "output_type": "display_data"
    }
   ],
   "source": [
    "# let's account for the universal expansion next\n",
    "\n",
    "# rows\n",
    "image = []\n",
    "for row in raw_image:\n",
    "    if not any(row):\n",
    "        image.append([1]*len(row))\n",
    "    image.append(row)\n",
    "\n",
    "plot_image(image, 'Stretchy space!')\n",
    "\n",
    "# cols\n",
    "transposed = list(zip(*image))\n",
    "temp = []\n",
    "for col in transposed:\n",
    "    if not any([value == 10 for value in col]):\n",
    "        temp.append([1]*len(col))\n",
    "    temp.append(col)\n",
    "image = list(zip(*temp))\n",
    "\n",
    "plot_image(image, 'You\\'re looking a bit spaced...')\n"
   ]
  },
  {
   "cell_type": "code",
   "execution_count": 74,
   "metadata": {},
   "outputs": [
    {
     "name": "stderr",
     "output_type": "stream",
     "text": [
      "0it [00:00, ?it/s]"
     ]
    },
    {
     "name": "stderr",
     "output_type": "stream",
     "text": [
      "434it [00:00, 5342.45it/s]\n"
     ]
    }
   ],
   "source": [
    "stars = []\n",
    "for n_row, row in enumerate(image):\n",
    "    for n_col, value in enumerate(row):\n",
    "        if value == 10:\n",
    "            stars.append((n_row, n_col))\n",
    "\n",
    "total_distance = 0\n",
    "for start, star in tqdm(enumerate(stars[:-1])):\n",
    "    for other_star in stars[start + 1:]:\n",
    "        total_distance += abs(star[0] - other_star[0]) + \\\n",
    "            abs(star[1] - other_star[1])\n",
    "\n"
   ]
  },
  {
   "cell_type": "code",
   "execution_count": 75,
   "metadata": {},
   "outputs": [
    {
     "data": {
      "text/markdown": [
       "### Solution\n",
       "The total distance between all pairs of stars is: 9693756"
      ],
      "text/plain": [
       "<IPython.core.display.Markdown object>"
      ]
     },
     "metadata": {},
     "output_type": "display_data"
    }
   ],
   "source": [
    "markdown(\n",
    "    '### Solution',\n",
    "    f'The total distance between all pairs of stars is: {total_distance}'\n",
    ")"
   ]
  },
  {
   "cell_type": "markdown",
   "metadata": {},
   "source": [
    "## Part 2\n",
    "\n",
    "- There are now 1 million times extra emtpy rows instead of 2x"
   ]
  },
  {
   "cell_type": "code",
   "execution_count": 76,
   "metadata": {},
   "outputs": [],
   "source": [
    "# lets just find the raw image distance and then use where the empty rows are\n",
    "# to add 1M to the total\n",
    "# rows\n",
    "row_gaps = []\n",
    "for n_row, row in enumerate(raw_image):\n",
    "    if not any(row):\n",
    "        row_gaps.append(n_row)\n",
    "\n",
    "# cols\n",
    "transposed = list(zip(*raw_image))\n",
    "col_gaps = []\n",
    "for n_col, col in enumerate(transposed):\n",
    "    if not any(col):\n",
    "        col_gaps.append(n_col)"
   ]
  },
  {
   "cell_type": "code",
   "execution_count": 81,
   "metadata": {},
   "outputs": [
    {
     "name": "stderr",
     "output_type": "stream",
     "text": [
      "0it [00:00, ?it/s]"
     ]
    },
    {
     "name": "stderr",
     "output_type": "stream",
     "text": [
      "434it [00:00, 490.60it/s]\n"
     ]
    }
   ],
   "source": [
    "raw_stars = []\n",
    "for n_row, row in enumerate(image):\n",
    "    for n_col, value in enumerate(row):\n",
    "        if value == 10:\n",
    "            raw_stars.append((n_row, n_col))\n",
    "\n",
    "new_total_distance = 0\n",
    "for start, star in tqdm(enumerate(stars[:-1])):\n",
    "    for other_star in stars[start + 1:]:\n",
    "        new_total_distance += abs(star[0] - other_star[0]) + \\\n",
    "            abs(star[1] - other_star[1]) - 1\n",
    "        for gap in row_gaps:\n",
    "            if star[0] < gap < other_star[0] or other_star[0] < gap < star[0]:\n",
    "                new_total_distance += 999_998\n",
    "        for gap in col_gaps:\n",
    "            if star[1] < gap < other_star[1] or other_star[1] < gap < star[1]:\n",
    "                new_total_distance += 999_998"
   ]
  },
  {
   "cell_type": "code",
   "execution_count": 82,
   "metadata": {},
   "outputs": [
    {
     "data": {
      "text/markdown": [
       "### Solution\n",
       "The acutal total distance between all pairs is: 726167147043"
      ],
      "text/plain": [
       "<IPython.core.display.Markdown object>"
      ]
     },
     "metadata": {},
     "output_type": "display_data"
    }
   ],
   "source": [
    "markdown(\n",
    "    '### Solution',\n",
    "    f'The acutal total distance between all pairs is: {new_total_distance}'\n",
    ")"
   ]
  }
 ],
 "metadata": {
  "kernelspec": {
   "display_name": ".venv",
   "language": "python",
   "name": "python3"
  },
  "language_info": {
   "codemirror_mode": {
    "name": "ipython",
    "version": 3
   },
   "file_extension": ".py",
   "mimetype": "text/x-python",
   "name": "python",
   "nbconvert_exporter": "python",
   "pygments_lexer": "ipython3",
   "version": "3.12.0"
  }
 },
 "nbformat": 4,
 "nbformat_minor": 2
}
