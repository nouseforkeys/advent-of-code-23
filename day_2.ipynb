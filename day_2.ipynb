{
 "cells": [
  {
   "cell_type": "markdown",
   "metadata": {},
   "source": [
    "# Day 2\n",
    "\n",
    "## Part 1\n",
    "\n",
    "- Cubes in a bag!\n",
    "- The bag contains:\n",
    "    - 12 Red\n",
    "    - 13 Green\n",
    "    - 14 Blue\n",
    "- work out which games are possible and which are impossible\n",
    "- the solutoin is the sums of the game ids of the possible games"
   ]
  },
  {
   "cell_type": "code",
   "execution_count": 15,
   "metadata": {},
   "outputs": [],
   "source": [
    "from tqdm import tqdm\n",
    "\n",
    "from advent_of_code_utils.advent_of_code_utils import (\n",
    "    ParseConfig, parse_from_file, markdown\n",
    ")"
   ]
  },
  {
   "cell_type": "code",
   "execution_count": 16,
   "metadata": {},
   "outputs": [
    {
     "name": "stdout",
     "output_type": "stream",
     "text": [
      "[1, [{'green': 6, 'blue': 3}, {'red': 3, 'green': 1}, {'green': 4, 'red': 3, 'blue': 5}]]\n"
     ]
    }
   ],
   "source": [
    "max_cubes = {\n",
    "    'red': 12, 'green': 13, 'blue': 14\n",
    "}\n",
    "\n",
    "def game_number(game_str: str) -> int:\n",
    "    \"\"\"extracts the game number\"\"\"\n",
    "    return int(game_str.split(' ')[-1])\n",
    "\n",
    "def get_cube_dict(cubes_str: str) -> dict:\n",
    "    \"\"\"returns a dict with numbers of cubes\"\"\"\n",
    "    cubes = {}\n",
    "    for item in cubes_str.split(', '):\n",
    "        value, colour = item.split(' ')\n",
    "        cubes.update({colour: int(value)})\n",
    "    return cubes\n",
    "        \n",
    "\n",
    "parser = ParseConfig('\\n', ParseConfig(': ', [\n",
    "    game_number,\n",
    "    ParseConfig('; ', get_cube_dict)\n",
    "]))\n",
    "\n",
    "games = parse_from_file('day_2.txt', parser)\n",
    "print(games[0])"
   ]
  },
  {
   "cell_type": "code",
   "execution_count": 21,
   "metadata": {},
   "outputs": [
    {
     "name": "stderr",
     "output_type": "stream",
     "text": [
      "100%|██████████| 100/100 [00:00<?, ?it/s]\n"
     ]
    }
   ],
   "source": [
    "def is_possible(draws: list, max_cubes: dict) -> bool:\n",
    "    \"\"\"returns true if the draws are possible\"\"\"\n",
    "    for draw in draws:\n",
    "        if any(\n",
    "            [quantity > max_cubes[colour] for colour, quantity in draw.items()]\n",
    "        ):\n",
    "            return False\n",
    "    else:\n",
    "        return True\n",
    "    \n",
    "total_possible_ids = 0\n",
    "for id, game in tqdm(games):\n",
    "    if is_possible(game, max_cubes):\n",
    "        total_possible_ids += id"
   ]
  },
  {
   "cell_type": "code",
   "execution_count": 22,
   "metadata": {},
   "outputs": [
    {
     "data": {
      "text/markdown": [
       "### Solution\n",
       "The sum of possible game ids is: 2683"
      ],
      "text/plain": [
       "<IPython.core.display.Markdown object>"
      ]
     },
     "metadata": {},
     "output_type": "display_data"
    }
   ],
   "source": [
    "markdown(\n",
    "    '### Solution',\n",
    "    f'The sum of possible game ids is: {total_possible_ids}'\n",
    ")"
   ]
  }
 ],
 "metadata": {
  "kernelspec": {
   "display_name": ".venv",
   "language": "python",
   "name": "python3"
  },
  "language_info": {
   "codemirror_mode": {
    "name": "ipython",
    "version": 3
   },
   "file_extension": ".py",
   "mimetype": "text/x-python",
   "name": "python",
   "nbconvert_exporter": "python",
   "pygments_lexer": "ipython3",
   "version": "3.12.0"
  }
 },
 "nbformat": 4,
 "nbformat_minor": 2
}
