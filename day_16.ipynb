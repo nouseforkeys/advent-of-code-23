{
 "cells": [
  {
   "cell_type": "markdown",
   "metadata": {},
   "source": [
    "# Day 16\n",
    "\n",
    "## Part 1\n",
    "\n",
    "- The beam enters at the top left from the left\n",
    "- Tiles have these effects:\n",
    "    - `.` leaves it unchanged\n",
    "    - `/` and `\\` reflects the beam 90 degrees\n",
    "    - `|` and `-` do nothing if the beam enters from the narrow side. If the beam enters from the flat side, 2 beams are emitted out of the ends.\n",
    "- How many tiles have the beam passing through?"
   ]
  },
  {
   "cell_type": "code",
   "execution_count": 2,
   "metadata": {},
   "outputs": [],
   "source": [
    "from matplotlib import pyplot as plt\n",
    "from tqdm import tqdm\n",
    "\n",
    "from advent_of_code_utils.advent_of_code_utils import (\n",
    "    ParseConfig, parse_from_file, markdown, plot_grid\n",
    ")"
   ]
  },
  {
   "cell_type": "code",
   "execution_count": null,
   "metadata": {},
   "outputs": [],
   "source": [
    "EMPTY = 0\n",
    "SLASH = 1\n",
    "BACK = 2\n",
    "V_SPLIT = 3\n",
    "H_SPLIT = 4\n",
    "\n",
    "def parse_tile(tile: str) -> int:\n",
    "    \"\"\"encodes the tile into an integer\"\"\"\n",
    "    match tile:\n",
    "        case '.':\n",
    "            return EMPTY\n",
    "        case '/':\n",
    "            return SLASH\n",
    "        case '\\\\':\n",
    "            return BACK\n",
    "        case '|':\n",
    "            return V_SPLIT\n",
    "        case '-':\n",
    "            return H_SPLIT"
   ]
  }
 ],
 "metadata": {
  "kernelspec": {
   "display_name": ".venv",
   "language": "python",
   "name": "python3"
  },
  "language_info": {
   "codemirror_mode": {
    "name": "ipython",
    "version": 3
   },
   "file_extension": ".py",
   "mimetype": "text/x-python",
   "name": "python",
   "nbconvert_exporter": "python",
   "pygments_lexer": "ipython3",
   "version": "3.12.0"
  }
 },
 "nbformat": 4,
 "nbformat_minor": 2
}
