{
 "cells": [
  {
   "cell_type": "markdown",
   "metadata": {},
   "source": [
    "# Day 14\n",
    "\n",
    "## Part 1\n",
    "\n",
    "- Rocks on a reflector!\n",
    "- `O` rocks can roll\n",
    "- `#` rocks can't\n",
    "- Rock load on the north support beams is more or less the moment vs the south side so a rock on the top row produces load len(grid), and -1 for each row back to the bottom.\n",
    "- Find the total rolling rock load."
   ]
  },
  {
   "cell_type": "code",
   "execution_count": 1,
   "metadata": {},
   "outputs": [],
   "source": [
    "from copy import deepcopy\n",
    "from matplotlib import pyplot as plt\n",
    "import numpy as np\n",
    "\n",
    "from advent_of_code_utils.advent_of_code_utils import (\n",
    "    ParseConfig, parse_from_file, markdown, create_gif, plot_grid\n",
    ")\n",
    "\n",
    "EMPTY = 0\n",
    "CUBE = 1\n",
    "ROUND = 2\n",
    "\n",
    "def tile_parser(tile: str) -> int:\n",
    "    \"\"\"converts a tile to an encoded int\"\"\"\n",
    "    match tile:\n",
    "        case '.':\n",
    "            return EMPTY\n",
    "        case '#':\n",
    "            return CUBE\n",
    "        case 'O':\n",
    "            return ROUND\n",
    "        case _:\n",
    "            raise ValueError(f'Unknown tile: {tile}')\n",
    "\n",
    "parser = ParseConfig('\\n', ParseConfig('', tile_parser))\n",
    "\n",
    "grid = parse_from_file('puzzle_input\\\\day_14.txt', parser)"
   ]
  },
  {
   "cell_type": "code",
   "execution_count": 2,
   "metadata": {},
   "outputs": [
    {
     "data": {
      "text/plain": [
       "Text(0.5, 1.0, \"Let's rock!\")"
      ]
     },
     "execution_count": 2,
     "metadata": {},
     "output_type": "execute_result"
    },
    {
     "data": {
      "image/png": "[encoded data removed]",
      "text/plain": [
       "<Figure size 640x480 with 1 Axes>"
      ]
     },
     "metadata": {},
     "output_type": "display_data"
    }
   ],
   "source": [
    "# obligatory plot! - Maybe I should pop this into the utils\n",
    "fig, ax = plt.subplots()\n",
    "plot_grid(grid, ax)\n",
    "ax.set_title('Let\\'s rock!')"
   ]
  },
  {
   "cell_type": "code",
   "execution_count": 3,
   "metadata": {},
   "outputs": [],
   "source": [
    "frames = [grid]\n",
    "\n",
    "def hashable(grid: list[list[int]]) -> tuple[tuple[int]]:\n",
    "    \"\"\"returns a hashable version of the grid\"\"\"\n",
    "    return tuple([tuple(row) for row in grid])\n",
    "\n",
    "while True:\n",
    "    previous = frames[-1]\n",
    "    next_frame = deepcopy(previous)\n",
    "    for n_row in range(1, len(next_frame)):\n",
    "        for n_col, value in enumerate(next_frame[n_row]):\n",
    "            # skip non round tiles\n",
    "            if value != ROUND:\n",
    "                continue\n",
    "            # if the tile above is empty move this round to there and make this\n",
    "            # tile empty\n",
    "            if next_frame[n_row - 1][n_col] == EMPTY:\n",
    "                next_frame[n_row - 1][n_col] = value\n",
    "                next_frame[n_row][n_col] = EMPTY\n",
    "    \n",
    "    # if nothing has changed break out of the loop\n",
    "    if hashable(next_frame) == hashable(previous):\n",
    "        break\n",
    "    # else keep going and append the new frame\n",
    "    else:\n",
    "        frames.append(next_frame)   "
   ]
  },
  {
   "cell_type": "code",
   "execution_count": 4,
   "metadata": {},
   "outputs": [
    {
     "name": "stderr",
     "output_type": "stream",
     "text": [
      "generating frames:   3%|▎         | 1/36 [00:00<00:04,  8.12it/s]"
     ]
    },
    {
     "name": "stderr",
     "output_type": "stream",
     "text": [
      "generating frames: 100%|██████████| 36/36 [00:02<00:00, 13.04it/s]\n"
     ]
    }
   ],
   "source": [
    "create_gif(frames, plot_grid, 'day_14', title='Rock and roll-ing')"
   ]
  },
  {
   "cell_type": "markdown",
   "metadata": {},
   "source": [
    "![Rolling north](day_14.gif)"
   ]
  },
  {
   "cell_type": "code",
   "execution_count": 5,
   "metadata": {},
   "outputs": [
    {
     "data": {
      "text/markdown": [
       "### Solution\n",
       "The total load on the north support is: 106997"
      ],
      "text/plain": [
       "<IPython.core.display.Markdown object>"
      ]
     },
     "metadata": {},
     "output_type": "display_data"
    }
   ],
   "source": [
    "# nice, now let's solve!\n",
    "final_frame = frames[-1]\n",
    "\n",
    "total_north_moment = 0\n",
    "for n_row, row in enumerate(final_frame):\n",
    "    for value in row:\n",
    "        if value == ROUND:\n",
    "            total_north_moment += len(final_frame) - n_row\n",
    "\n",
    "markdown(\n",
    "    '### Solution',\n",
    "    f'The total load on the north support is: {total_north_moment}'\n",
    ")"
   ]
  },
  {
   "cell_type": "markdown",
   "metadata": {},
   "source": [
    "## Part 2\n",
    "- The spin cycle tips the whole thing `north`, `west`, `south`, `east`\n",
    "- Doing all 4 is one cycle\n",
    "- Find the total load on the north support after 1 billion cycles.\n"
   ]
  },
  {
   "cell_type": "markdown",
   "metadata": {},
   "source": [
    "Presumably the positions should repeat after a certain point so let's run it for a while and see."
   ]
  },
  {
   "cell_type": "code",
   "execution_count": 6,
   "metadata": {},
   "outputs": [],
   "source": [
    "from tqdm import tqdm"
   ]
  },
  {
   "cell_type": "code",
   "execution_count": 7,
   "metadata": {},
   "outputs": [],
   "source": [
    "n_cycles = 1_000_000_000"
   ]
  },
  {
   "cell_type": "code",
   "execution_count": 8,
   "metadata": {},
   "outputs": [],
   "source": [
    "cached_frames = [grid]\n",
    "\n",
    "def tip_north(\n",
    "    grid: list[list[int]], cache: bool = False, cache_list: list = []\n",
    ") -> list[list[int]]:\n",
    "    \"\"\"returns the grid after it has been tipped north\"\"\"\n",
    "    previous = grid\n",
    "    while True:\n",
    "        next_frame = deepcopy(previous)\n",
    "        for n_row in range(1, len(next_frame)):\n",
    "            for n_col, value in enumerate(next_frame[n_row]):\n",
    "                # skip non round tiles\n",
    "                if value != ROUND:\n",
    "                    continue\n",
    "                # if the tile above is empty move this round to there and make this\n",
    "                # tile empty\n",
    "                if next_frame[n_row - 1][n_col] == EMPTY:\n",
    "                    next_frame[n_row - 1][n_col] = value\n",
    "                    next_frame[n_row][n_col] = EMPTY\n",
    "        \n",
    "        # if nothing has changed break out of the loop\n",
    "        if hashable(next_frame) == hashable(previous):\n",
    "            return previous\n",
    "        # else keep going and append the new frame if caching enabled\n",
    "        elif cache:\n",
    "            temp = deepcopy(next_frame)\n",
    "            for func in cache_list:\n",
    "                temp = func(temp)\n",
    "            cached_frames.append(temp)\n",
    "        previous = next_frame\n",
    "\n",
    "\n",
    "def tip_south(\n",
    "    grid: list[list[int]], cache: bool = False, cache_list: list = [np.flipud]\n",
    ") -> list[list[int]]:\n",
    "    \"\"\"returns the grid after it has been tipped south\"\"\"\n",
    "    return np.flipud(tip_north(np.flipud(grid), cache, cache_list))\n",
    "\n",
    "def tip_west(\n",
    "    grid: list[list[int]], cache: bool = False,\n",
    "    cache_list: list = [np.transpose]\n",
    ") -> list[list[int]]:\n",
    "    \"\"\"returns the grid after it has been tipped west\"\"\"\n",
    "    return np.transpose(tip_north(np.transpose(grid), cache, cache_list))\n",
    "\n",
    "def tip_east(\n",
    "    grid: list[list[int]], cache: bool = False,\n",
    "    cache_list: list = [np.transpose, np.fliplr]\n",
    ") -> list[list[int]]:\n",
    "    \"\"\"returns the grid after it has been tipped east\"\"\"\n",
    "    return np.fliplr(tip_west(np.fliplr(grid), cache, cache_list))\n"
   ]
  },
  {
   "cell_type": "markdown",
   "metadata": {},
   "source": [
    "Let's just run it for 10 cycles because caching all these frames isn't going to be very easy once it runs for too long"
   ]
  },
  {
   "cell_type": "code",
   "execution_count": 9,
   "metadata": {},
   "outputs": [
    {
     "name": "stderr",
     "output_type": "stream",
     "text": [
      "  0%|          | 10/1000000000 [00:06<187145:30:33,  1.48it/s]\n"
     ]
    }
   ],
   "source": [
    "previous_full_cycle = grid\n",
    "cached_frames = [grid]\n",
    "cache = True\n",
    "\n",
    "for iteration in tqdm(range(n_cycles), total=n_cycles):\n",
    "    next_cycle = deepcopy(previous_full_cycle)\n",
    "    next_cycle = tip_north(next_cycle, cache)\n",
    "    next_cycle = tip_west(next_cycle, cache)\n",
    "    next_cycle = tip_south(next_cycle, cache)\n",
    "    next_cycle = tip_east(next_cycle, cache)\n",
    "    \n",
    "    if hashable(next_cycle) == hashable(previous_full_cycle):\n",
    "        break\n",
    "    else:\n",
    "        previous_full_cycle = next_cycle\n",
    "    \n",
    "    if iteration >= 10:\n",
    "        break"
   ]
  },
  {
   "cell_type": "code",
   "execution_count": 10,
   "metadata": {},
   "outputs": [
    {
     "name": "stderr",
     "output_type": "stream",
     "text": [
      "generating frames: 100%|██████████| 1478/1478 [01:33<00:00, 15.87it/s]\n"
     ]
    }
   ],
   "source": [
    "create_gif(\n",
    "    cached_frames, plot_grid, 'day_14_part_2', append_iteration=True,\n",
    "    title='First 10 cycles'\n",
    ")"
   ]
  },
  {
   "cell_type": "markdown",
   "metadata": {},
   "source": [
    "![10 Cycles](day_14_part_2.gif)"
   ]
  },
  {
   "cell_type": "markdown",
   "metadata": {},
   "source": [
    "Ok now for real"
   ]
  },
  {
   "cell_type": "code",
   "execution_count": 56,
   "metadata": {},
   "outputs": [
    {
     "name": "stderr",
     "output_type": "stream",
     "text": [
      "  0%|          | 558/1000000000 [05:49<174073:10:29,  1.60it/s]\n"
     ]
    },
    {
     "ename": "KeyboardInterrupt",
     "evalue": "",
     "output_type": "error",
     "traceback": [
      "\u001b[1;31m---------------------------------------------------------------------------\u001b[0m",
      "\u001b[1;31mKeyboardInterrupt\u001b[0m                         Traceback (most recent call last)",
      "Cell \u001b[1;32mIn[56], line 9\u001b[0m\n\u001b[0;32m      7\u001b[0m next_cycle \u001b[38;5;241m=\u001b[39m tip_west(next_cycle, cache)\n\u001b[0;32m      8\u001b[0m next_cycle \u001b[38;5;241m=\u001b[39m tip_south(next_cycle, cache)\n\u001b[1;32m----> 9\u001b[0m next_cycle \u001b[38;5;241m=\u001b[39m \u001b[43mtip_east\u001b[49m\u001b[43m(\u001b[49m\u001b[43mnext_cycle\u001b[49m\u001b[43m,\u001b[49m\u001b[43m \u001b[49m\u001b[43mcache\u001b[49m\u001b[43m)\u001b[49m\n\u001b[0;32m     11\u001b[0m \u001b[38;5;28;01mif\u001b[39;00m hashable(next_cycle) \u001b[38;5;241m==\u001b[39m hashable(previous_full_cycle):\n\u001b[0;32m     12\u001b[0m     \u001b[38;5;28;01mbreak\u001b[39;00m\n",
      "Cell \u001b[1;32mIn[53], line 51\u001b[0m, in \u001b[0;36mtip_east\u001b[1;34m(grid, cache, cache_list)\u001b[0m\n\u001b[0;32m     46\u001b[0m \u001b[38;5;28;01mdef\u001b[39;00m \u001b[38;5;21mtip_east\u001b[39m(\n\u001b[0;32m     47\u001b[0m     grid: \u001b[38;5;28mlist\u001b[39m[\u001b[38;5;28mlist\u001b[39m[\u001b[38;5;28mint\u001b[39m]], cache: \u001b[38;5;28mbool\u001b[39m \u001b[38;5;241m=\u001b[39m \u001b[38;5;28;01mFalse\u001b[39;00m,\n\u001b[0;32m     48\u001b[0m     cache_list: \u001b[38;5;28mlist\u001b[39m \u001b[38;5;241m=\u001b[39m [np\u001b[38;5;241m.\u001b[39mtranspose, np\u001b[38;5;241m.\u001b[39mfliplr]\n\u001b[0;32m     49\u001b[0m ) \u001b[38;5;241m-\u001b[39m\u001b[38;5;241m>\u001b[39m \u001b[38;5;28mlist\u001b[39m[\u001b[38;5;28mlist\u001b[39m[\u001b[38;5;28mint\u001b[39m]]:\n\u001b[0;32m     50\u001b[0m \u001b[38;5;250m    \u001b[39m\u001b[38;5;124;03m\"\"\"returns the grid after it has been tipped east\"\"\"\u001b[39;00m\n\u001b[1;32m---> 51\u001b[0m     \u001b[38;5;28;01mreturn\u001b[39;00m np\u001b[38;5;241m.\u001b[39mfliplr(\u001b[43mtip_west\u001b[49m\u001b[43m(\u001b[49m\u001b[43mnp\u001b[49m\u001b[38;5;241;43m.\u001b[39;49m\u001b[43mfliplr\u001b[49m\u001b[43m(\u001b[49m\u001b[43mgrid\u001b[49m\u001b[43m)\u001b[49m\u001b[43m,\u001b[49m\u001b[43m \u001b[49m\u001b[43mcache\u001b[49m\u001b[43m,\u001b[49m\u001b[43m \u001b[49m\u001b[43mcache_list\u001b[49m\u001b[43m)\u001b[49m)\n",
      "Cell \u001b[1;32mIn[53], line 44\u001b[0m, in \u001b[0;36mtip_west\u001b[1;34m(grid, cache, cache_list)\u001b[0m\n\u001b[0;32m     39\u001b[0m \u001b[38;5;28;01mdef\u001b[39;00m \u001b[38;5;21mtip_west\u001b[39m(\n\u001b[0;32m     40\u001b[0m     grid: \u001b[38;5;28mlist\u001b[39m[\u001b[38;5;28mlist\u001b[39m[\u001b[38;5;28mint\u001b[39m]], cache: \u001b[38;5;28mbool\u001b[39m \u001b[38;5;241m=\u001b[39m \u001b[38;5;28;01mFalse\u001b[39;00m,\n\u001b[0;32m     41\u001b[0m     cache_list: \u001b[38;5;28mlist\u001b[39m \u001b[38;5;241m=\u001b[39m [np\u001b[38;5;241m.\u001b[39mtranspose]\n\u001b[0;32m     42\u001b[0m ) \u001b[38;5;241m-\u001b[39m\u001b[38;5;241m>\u001b[39m \u001b[38;5;28mlist\u001b[39m[\u001b[38;5;28mlist\u001b[39m[\u001b[38;5;28mint\u001b[39m]]:\n\u001b[0;32m     43\u001b[0m \u001b[38;5;250m    \u001b[39m\u001b[38;5;124;03m\"\"\"returns the grid after it has been tipped west\"\"\"\u001b[39;00m\n\u001b[1;32m---> 44\u001b[0m     \u001b[38;5;28;01mreturn\u001b[39;00m np\u001b[38;5;241m.\u001b[39mtranspose(\u001b[43mtip_north\u001b[49m\u001b[43m(\u001b[49m\u001b[43mnp\u001b[49m\u001b[38;5;241;43m.\u001b[39;49m\u001b[43mtranspose\u001b[49m\u001b[43m(\u001b[49m\u001b[43mgrid\u001b[49m\u001b[43m)\u001b[49m\u001b[43m,\u001b[49m\u001b[43m \u001b[49m\u001b[43mcache\u001b[49m\u001b[43m,\u001b[49m\u001b[43m \u001b[49m\u001b[43mcache_list\u001b[49m\u001b[43m)\u001b[49m)\n",
      "Cell \u001b[1;32mIn[53], line 9\u001b[0m, in \u001b[0;36mtip_north\u001b[1;34m(grid, cache, cache_list)\u001b[0m\n\u001b[0;32m      7\u001b[0m previous \u001b[38;5;241m=\u001b[39m grid\n\u001b[0;32m      8\u001b[0m \u001b[38;5;28;01mwhile\u001b[39;00m \u001b[38;5;28;01mTrue\u001b[39;00m:\n\u001b[1;32m----> 9\u001b[0m     next_frame \u001b[38;5;241m=\u001b[39m \u001b[43mdeepcopy\u001b[49m\u001b[43m(\u001b[49m\u001b[43mprevious\u001b[49m\u001b[43m)\u001b[49m\n\u001b[0;32m     10\u001b[0m     \u001b[38;5;28;01mfor\u001b[39;00m n_row \u001b[38;5;129;01min\u001b[39;00m \u001b[38;5;28mrange\u001b[39m(\u001b[38;5;241m1\u001b[39m, \u001b[38;5;28mlen\u001b[39m(next_frame)):\n\u001b[0;32m     11\u001b[0m         \u001b[38;5;28;01mfor\u001b[39;00m n_col, value \u001b[38;5;129;01min\u001b[39;00m \u001b[38;5;28menumerate\u001b[39m(next_frame[n_row]):\n\u001b[0;32m     12\u001b[0m             \u001b[38;5;66;03m# skip non round tiles\u001b[39;00m\n",
      "File \u001b[1;32m~\\AppData\\Local\\Programs\\Python\\Python312\\Lib\\copy.py:143\u001b[0m, in \u001b[0;36mdeepcopy\u001b[1;34m(x, memo, _nil)\u001b[0m\n\u001b[0;32m    141\u001b[0m copier \u001b[38;5;241m=\u001b[39m \u001b[38;5;28mgetattr\u001b[39m(x, \u001b[38;5;124m\"\u001b[39m\u001b[38;5;124m__deepcopy__\u001b[39m\u001b[38;5;124m\"\u001b[39m, \u001b[38;5;28;01mNone\u001b[39;00m)\n\u001b[0;32m    142\u001b[0m \u001b[38;5;28;01mif\u001b[39;00m copier \u001b[38;5;129;01mis\u001b[39;00m \u001b[38;5;129;01mnot\u001b[39;00m \u001b[38;5;28;01mNone\u001b[39;00m:\n\u001b[1;32m--> 143\u001b[0m     y \u001b[38;5;241m=\u001b[39m \u001b[43mcopier\u001b[49m\u001b[43m(\u001b[49m\u001b[43mmemo\u001b[49m\u001b[43m)\u001b[49m\n\u001b[0;32m    144\u001b[0m \u001b[38;5;28;01melse\u001b[39;00m:\n\u001b[0;32m    145\u001b[0m     reductor \u001b[38;5;241m=\u001b[39m dispatch_table\u001b[38;5;241m.\u001b[39mget(\u001b[38;5;28mcls\u001b[39m)\n",
      "\u001b[1;31mKeyboardInterrupt\u001b[0m: "
     ]
    }
   ],
   "source": [
    "previous_full_cycle = grid\n",
    "cache = False\n",
    "\n",
    "for iteration in tqdm(range(n_cycles), total=n_cycles):\n",
    "    next_cycle = deepcopy(previous_full_cycle)\n",
    "    next_cycle = tip_north(next_cycle, cache)\n",
    "    next_cycle = tip_west(next_cycle, cache)\n",
    "    next_cycle = tip_south(next_cycle, cache)\n",
    "    next_cycle = tip_east(next_cycle, cache)\n",
    "    \n",
    "    if hashable(next_cycle) == hashable(previous_full_cycle):\n",
    "        break\n",
    "    else:\n",
    "        previous_full_cycle = next_cycle\n",
    "    "
   ]
  },
  {
   "cell_type": "markdown",
   "metadata": {},
   "source": [
    "Hmm, this doesn't seem to be stabilising. At least, not at just over 1 iteration per second, that is.\n",
    "\n",
    "This will need optimisation to solve. Potentially we could build a map of where a `ROUND` rock at some location ends up once it stabilises and streamline the iterations to only have to simulate the ones that are still filtering out."
   ]
  }
 ],
 "metadata": {
  "kernelspec": {
   "display_name": ".venv",
   "language": "python",
   "name": "python3"
  },
  "language_info": {
   "codemirror_mode": {
    "name": "ipython",
    "version": 3
   },
   "file_extension": ".py",
   "mimetype": "text/x-python",
   "name": "python",
   "nbconvert_exporter": "python",
   "pygments_lexer": "ipython3",
   "version": "3.12.0"
  }
 },
 "nbformat": 4,
 "nbformat_minor": 2
}
