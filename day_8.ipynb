{
 "cells": [
  {
   "cell_type": "markdown",
   "metadata": {},
   "source": [
    "# Day 8\n",
    "\n",
    "- The first portion of the input is directions\n",
    "- The second portion is mappings between points\n",
    "- count the number of iterations it takes to get to `ZZZ` starting at `AAA`"
   ]
  },
  {
   "cell_type": "code",
   "execution_count": 11,
   "metadata": {},
   "outputs": [],
   "source": [
    "from itertools import cycle\n",
    "\n",
    "from tqdm import tqdm\n",
    "\n",
    "from advent_of_code_utils.advent_of_code_utils import (\n",
    "    parse_from_file, ParseConfig, markdown\n",
    ")"
   ]
  },
  {
   "cell_type": "code",
   "execution_count": 12,
   "metadata": {},
   "outputs": [
    {
     "name": "stdout",
     "output_type": "stream",
     "text": [
      "['L', 'L', 'L']\n",
      "[['MQF', ['DDG', 'LSH']], ['QJP', ['PCT', 'XKJ']], ['JXF', ['PMG', 'NBN']]]\n"
     ]
    }
   ],
   "source": [
    "def extract_options(option_string: str) -> tuple[str, str]:\n",
    "    \"\"\"does the final step parsing the mapping options\"\"\"\n",
    "    return option_string[1:-1].split(', ')\n",
    "\n",
    "parser = ParseConfig('\\n\\n', [\n",
    "    ParseConfig('', str),\n",
    "    ParseConfig('\\n', ParseConfig(' = ', [str, extract_options]))\n",
    "])\n",
    "\n",
    "directions, mappings = parse_from_file('puzzle_input\\\\day_8.txt', parser)\n",
    "\n",
    "print(directions[:3])\n",
    "print(mappings[:3])"
   ]
  },
  {
   "cell_type": "code",
   "execution_count": 13,
   "metadata": {},
   "outputs": [],
   "source": [
    "mapping_dict = {point: options for point, options in mappings}\n",
    "direction_cycle = cycle([direction == 'R' for direction in directions])"
   ]
  },
  {
   "cell_type": "code",
   "execution_count": 14,
   "metadata": {},
   "outputs": [
    {
     "name": "stderr",
     "output_type": "stream",
     "text": [
      "12082it [00:00, 734205.26it/s]\n"
     ]
    }
   ],
   "source": [
    "location = 'AAA'\n",
    "iterations = 0\n",
    "for direction in tqdm(direction_cycle):\n",
    "    iterations += 1\n",
    "    location = mapping_dict[location][direction]\n",
    "    if location == 'ZZZ':\n",
    "        break"
   ]
  },
  {
   "cell_type": "code",
   "execution_count": 15,
   "metadata": {},
   "outputs": [
    {
     "data": {
      "text/markdown": [
       "### Solution\n",
       "The number of iterations it will take to get to ZZZ is: 12083"
      ],
      "text/plain": [
       "<IPython.core.display.Markdown object>"
      ]
     },
     "metadata": {},
     "output_type": "display_data"
    }
   ],
   "source": [
    "markdown(\n",
    "    '### Solution',\n",
    "    f'The number of iterations it will take to get to ZZZ is: {iterations}'\n",
    ")"
   ]
  }
 ],
 "metadata": {
  "kernelspec": {
   "display_name": ".venv",
   "language": "python",
   "name": "python3"
  },
  "language_info": {
   "codemirror_mode": {
    "name": "ipython",
    "version": 3
   },
   "file_extension": ".py",
   "mimetype": "text/x-python",
   "name": "python",
   "nbconvert_exporter": "python",
   "pygments_lexer": "ipython3",
   "version": "3.12.0"
  }
 },
 "nbformat": 4,
 "nbformat_minor": 2
}
