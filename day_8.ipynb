{
 "cells": [
  {
   "cell_type": "markdown",
   "metadata": {},
   "source": [
    "# Day 8\n",
    "\n",
    "- The first portion of the input is directions\n",
    "- The second portion is mappings between points\n",
    "- count the number of iterations it takes to get to `ZZZ` starting at `AAA`"
   ]
  },
  {
   "cell_type": "code",
   "execution_count": 1,
   "metadata": {},
   "outputs": [],
   "source": [
    "from itertools import cycle\n",
    "\n",
    "from tqdm import tqdm\n",
    "\n",
    "from advent_of_code_utils.advent_of_code_utils import (\n",
    "    parse_from_file, ParseConfig, markdown\n",
    ")"
   ]
  },
  {
   "cell_type": "code",
   "execution_count": 2,
   "metadata": {},
   "outputs": [
    {
     "name": "stdout",
     "output_type": "stream",
     "text": [
      "['L', 'L', 'L']\n",
      "[['MQF', ['DDG', 'LSH']], ['QJP', ['PCT', 'XKJ']], ['JXF', ['PMG', 'NBN']]]\n"
     ]
    }
   ],
   "source": [
    "def extract_options(option_string: str) -> tuple[str, str]:\n",
    "    \"\"\"does the final step parsing the mapping options\"\"\"\n",
    "    return option_string[1:-1].split(', ')\n",
    "\n",
    "parser = ParseConfig('\\n\\n', [\n",
    "    ParseConfig('', str),\n",
    "    ParseConfig('\\n', ParseConfig(' = ', [str, extract_options]))\n",
    "])\n",
    "\n",
    "directions, mappings = parse_from_file('puzzle_input\\\\day_8.txt', parser)\n",
    "\n",
    "print(directions[:3])\n",
    "print(mappings[:3])"
   ]
  },
  {
   "cell_type": "code",
   "execution_count": 3,
   "metadata": {},
   "outputs": [],
   "source": [
    "mapping_dict = {point: options for point, options in mappings}\n",
    "direction_cycle = cycle([direction == 'R' for direction in directions])"
   ]
  },
  {
   "cell_type": "code",
   "execution_count": 4,
   "metadata": {},
   "outputs": [
    {
     "name": "stderr",
     "output_type": "stream",
     "text": [
      "12082it [00:00, 542489.60it/s]\n"
     ]
    }
   ],
   "source": [
    "location = 'AAA'\n",
    "iterations = 0\n",
    "for direction in tqdm(direction_cycle):\n",
    "    iterations += 1\n",
    "    location = mapping_dict[location][direction]\n",
    "    if location == 'ZZZ':\n",
    "        break"
   ]
  },
  {
   "cell_type": "code",
   "execution_count": 5,
   "metadata": {},
   "outputs": [
    {
     "data": {
      "text/markdown": [
       "### Solution\n",
       "The number of iterations it will take to get to ZZZ is: 12083"
      ],
      "text/plain": [
       "<IPython.core.display.Markdown object>"
      ]
     },
     "metadata": {},
     "output_type": "display_data"
    }
   ],
   "source": [
    "markdown(\n",
    "    '### Solution',\n",
    "    f'The number of iterations it will take to get to ZZZ is: {iterations}'\n",
    ")"
   ]
  },
  {
   "cell_type": "markdown",
   "metadata": {},
   "source": [
    "## Part 2\n",
    "\n",
    "- something something ghosts magic whatever\n",
    "- start at all nodes that end in `A` and only finish once all nodes reached end in `Z`."
   ]
  },
  {
   "cell_type": "markdown",
   "metadata": {},
   "source": [
    "I stopped this running after 40 minutes and 800M iterations\n",
    "looks like I'm gonna have to be smarter...\n",
    "``` python\n",
    "part_2_directions = cycle([direction == 'R' for direction in directions])\n",
    "locations = [point for point in mapping_dict if point.endswith('A')]\n",
    "part_2_iter = 0\n",
    "for direction in tqdm(part_2_directions):\n",
    "    part_2_iter += 1\n",
    "    temp = []\n",
    "    for location in locations:\n",
    "        temp.append(mapping_dict[location][direction])\n",
    "    locations = temp\n",
    "    if all([point.endswith('Z') for point in locations]):\n",
    "        break\n",
    "```"
   ]
  },
  {
   "cell_type": "code",
   "execution_count": 22,
   "metadata": {},
   "outputs": [
    {
     "name": "stderr",
     "output_type": "stream",
     "text": [
      "0it [00:00, ?it/s]"
     ]
    },
    {
     "name": "stderr",
     "output_type": "stream",
     "text": [
      "132069it [00:00, 132442.93it/s]\n"
     ]
    }
   ],
   "source": [
    "# let's try logging the gaps in encounters with Zs and see if there's a pattern\n",
    "part_2_directions = cycle([direction == 'R' for direction in directions])\n",
    "locations = [point for point in mapping_dict if point.endswith('A')]\n",
    "\n",
    "z_gaps = [[0] for location in locations]\n",
    "for direction in tqdm(part_2_directions):\n",
    "    temp = []\n",
    "    for location, gaps in zip(locations, z_gaps):\n",
    "        new_location = mapping_dict[location][direction]\n",
    "        gaps[-1] += 1\n",
    "        if new_location.endswith('Z'):\n",
    "            gaps.append(0)\n",
    "        temp.append(new_location)\n",
    "    locations = temp\n",
    "    # if all([point.endswith('Z') for point in locations]):\n",
    "    #     break\n",
    "    # stop after we've accumulated 100 gaps for all starting locations\n",
    "    if all([len(gaps) > 10 for gap in z_gaps]):\n",
    "        break\n",
    "\n",
    "# truncate last value - all but one will be incomplete\n",
    "z_gaps = [gaps[:-1] for gaps in z_gaps]"
   ]
  },
  {
   "cell_type": "code",
   "execution_count": 24,
   "metadata": {},
   "outputs": [
    {
     "name": "stdout",
     "output_type": "stream",
     "text": [
      "[20513, 20513, 20513, 20513, 20513, 20513]\n",
      "[18827, 18827, 18827, 18827, 18827, 18827, 18827]\n",
      "[17141, 17141, 17141, 17141, 17141, 17141, 17141]\n",
      "[22199, 22199, 22199, 22199, 22199]\n",
      "[12083, 12083, 12083, 12083, 12083, 12083, 12083, 12083, 12083, 12083]\n",
      "[13207, 13207, 13207, 13207, 13207, 13207, 13207, 13207, 13207, 13207]\n"
     ]
    }
   ],
   "source": [
    "for gaps in z_gaps:\n",
    "    print(gaps)"
   ]
  },
  {
   "cell_type": "markdown",
   "metadata": {},
   "source": [
    "Ngl I wasn't expecting it to be that easy!\n",
    "\n",
    "Looks like all the loops have only one location that ends with Z so we just need to find the lowest common multiple of all these periods and we're done!"
   ]
  },
  {
   "cell_type": "code",
   "execution_count": 40,
   "metadata": {},
   "outputs": [
    {
     "name": "stdout",
     "output_type": "stream",
     "text": [
      "2 []\n",
      "3 []\n",
      "4 [2, 2]\n",
      "5 []\n",
      "6 [2, 3]\n",
      "7 []\n",
      "8 [2, 2, 2]\n",
      "9 [3, 3]\n",
      "10 [2, 5]\n"
     ]
    }
   ],
   "source": [
    "def prime_factors(value: int) -> list[int]:\n",
    "    \"\"\"returns a list of the prime factors of the input\"\"\"\n",
    "    factors = []\n",
    "    for potential in range(2, (value // 2) + 1):\n",
    "        if value % potential  == 0 and potential not in factors:\n",
    "            factors.extend([potential, value // potential])\n",
    "    primes = []\n",
    "    for factor in factors:\n",
    "        sub_factors = prime_factors(factor)\n",
    "        if len(sub_factors) == 0:\n",
    "            primes.append(factor)\n",
    "        else:\n",
    "            primes.extend(prime_factors(factor))\n",
    "    return primes\n",
    "\n",
    "for i in range(2, 11):\n",
    "    print(i, prime_factors(i))"
   ]
  },
  {
   "cell_type": "code",
   "execution_count": 42,
   "metadata": {},
   "outputs": [
    {
     "name": "stderr",
     "output_type": "stream",
     "text": [
      "100%|██████████| 6/6 [00:00<00:00, 601.66it/s]"
     ]
    },
    {
     "name": "stdout",
     "output_type": "stream",
     "text": [
      "20513 [73, 281]\n",
      "18827 [67, 281]\n",
      "17141 [61, 281]\n",
      "22199 [79, 281]\n",
      "12083 [43, 281]\n",
      "13207 [47, 281]\n"
     ]
    },
    {
     "name": "stderr",
     "output_type": "stream",
     "text": [
      "\n"
     ]
    }
   ],
   "source": [
    "# ok let's see what the damages is for the z gaps\n",
    "factors = []\n",
    "for gap, *_ in tqdm(z_gaps):\n",
    "    gap_factors = prime_factors(gap)\n",
    "    if len(gap_factors) == 0:\n",
    "        factors.append([gap])\n",
    "    else:\n",
    "        factors.append(gap_factors)\n",
    "    print(gap, factors[-1])"
   ]
  },
  {
   "cell_type": "code",
   "execution_count": 49,
   "metadata": {},
   "outputs": [
    {
     "data": {
      "text/markdown": [
       "the number of directions is: 281"
      ],
      "text/plain": [
       "<IPython.core.display.Markdown object>"
      ]
     },
     "metadata": {},
     "output_type": "display_data"
    }
   ],
   "source": [
    "# that is also very convenient! wait let me check something...\n",
    "markdown(\n",
    "    f'the number of directions is: {len(directions)}'\n",
    ")"
   ]
  },
  {
   "cell_type": "markdown",
   "metadata": {},
   "source": [
    "Ah that would explain things... I think. Welp either way this is the home stretch."
   ]
  },
  {
   "cell_type": "code",
   "execution_count": null,
   "metadata": {},
   "outputs": [],
   "source": [
    "# since there are no repeats this will do\n",
    "lcm_factors = []\n",
    "for gap_factors in factors:\n",
    "    for factor in gap_factors:\n",
    "        if factor not in lcm_factors:\n",
    "            lcm_factors.append(factor)\n",
    "\n",
    "product = 1\n",
    "for fact in lcm_factors:\n",
    "    product *= fact"
   ]
  },
  {
   "cell_type": "code",
   "execution_count": 46,
   "metadata": {},
   "outputs": [
    {
     "data": {
      "text/markdown": [
       "### Solution\n",
       "The minimum number of steps a ghost would take is: 13385272668829"
      ],
      "text/plain": [
       "<IPython.core.display.Markdown object>"
      ]
     },
     "metadata": {},
     "output_type": "display_data"
    }
   ],
   "source": [
    "markdown(\n",
    "    '### Solution',\n",
    "    f'The minimum number of steps a ghost would take is: {product}'\n",
    ")"
   ]
  }
 ],
 "metadata": {
  "kernelspec": {
   "display_name": ".venv",
   "language": "python",
   "name": "python3"
  },
  "language_info": {
   "codemirror_mode": {
    "name": "ipython",
    "version": 3
   },
   "file_extension": ".py",
   "mimetype": "text/x-python",
   "name": "python",
   "nbconvert_exporter": "python",
   "pygments_lexer": "ipython3",
   "version": "3.12.0"
  }
 },
 "nbformat": 4,
 "nbformat_minor": 2
}
