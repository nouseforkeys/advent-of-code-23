{
 "cells": [
  {
   "cell_type": "markdown",
   "metadata": {},
   "source": [
    "# Day 8\n",
    "\n",
    "- The first portion of the input is directions\n",
    "- The second portion is mappings between points\n",
    "- count the number of iterations it takes to get to `ZZZ` starting at `AAA`"
   ]
  },
  {
   "cell_type": "code",
   "execution_count": 11,
   "metadata": {},
   "outputs": [],
   "source": [
    "from itertools import cycle\n",
    "\n",
    "from tqdm import tqdm\n",
    "\n",
    "from advent_of_code_utils.advent_of_code_utils import (\n",
    "    parse_from_file, ParseConfig, markdown\n",
    ")"
   ]
  },
  {
   "cell_type": "code",
   "execution_count": 12,
   "metadata": {},
   "outputs": [
    {
     "name": "stdout",
     "output_type": "stream",
     "text": [
      "['L', 'L', 'L']\n",
      "[['MQF', ['DDG', 'LSH']], ['QJP', ['PCT', 'XKJ']], ['JXF', ['PMG', 'NBN']]]\n"
     ]
    }
   ],
   "source": [
    "def extract_options(option_string: str) -> tuple[str, str]:\n",
    "    \"\"\"does the final step parsing the mapping options\"\"\"\n",
    "    return option_string[1:-1].split(', ')\n",
    "\n",
    "parser = ParseConfig('\\n\\n', [\n",
    "    ParseConfig('', str),\n",
    "    ParseConfig('\\n', ParseConfig(' = ', [str, extract_options]))\n",
    "])\n",
    "\n",
    "directions, mappings = parse_from_file('puzzle_input\\\\day_8.txt', parser)\n",
    "\n",
    "print(directions[:3])\n",
    "print(mappings[:3])"
   ]
  },
  {
   "cell_type": "code",
   "execution_count": 13,
   "metadata": {},
   "outputs": [],
   "source": [
    "mapping_dict = {point: options for point, options in mappings}\n",
    "direction_cycle = cycle([direction == 'R' for direction in directions])"
   ]
  },
  {
   "cell_type": "code",
   "execution_count": 14,
   "metadata": {},
   "outputs": [
    {
     "name": "stderr",
     "output_type": "stream",
     "text": [
      "12082it [00:00, 734205.26it/s]\n"
     ]
    }
   ],
   "source": [
    "location = 'AAA'\n",
    "iterations = 0\n",
    "for direction in tqdm(direction_cycle):\n",
    "    iterations += 1\n",
    "    location = mapping_dict[location][direction]\n",
    "    if location == 'ZZZ':\n",
    "        break"
   ]
  },
  {
   "cell_type": "code",
   "execution_count": 15,
   "metadata": {},
   "outputs": [
    {
     "data": {
      "text/markdown": [
       "### Solution\n",
       "The number of iterations it will take to get to ZZZ is: 12083"
      ],
      "text/plain": [
       "<IPython.core.display.Markdown object>"
      ]
     },
     "metadata": {},
     "output_type": "display_data"
    }
   ],
   "source": [
    "markdown(\n",
    "    '### Solution',\n",
    "    f'The number of iterations it will take to get to ZZZ is: {iterations}'\n",
    ")"
   ]
  },
  {
   "cell_type": "markdown",
   "metadata": {},
   "source": [
    "## Part 2\n",
    "\n",
    "- something something ghosts magic whatever\n",
    "- start at all nodes that end in `A` and only finish once all nodes reached end in `Z`."
   ]
  },
  {
   "cell_type": "code",
   "execution_count": 17,
   "metadata": {},
   "outputs": [],
   "source": [
    "part_2_directions = cycle([direction == 'R' for direction in directions])\n",
    "locations = [point for point in mapping_dict if point.endswith('A')]"
   ]
  },
  {
   "cell_type": "code",
   "execution_count": 19,
   "metadata": {},
   "outputs": [
    {
     "name": "stderr",
     "output_type": "stream",
     "text": [
      "820181257it [45:10, 302587.12it/s]\n"
     ]
    },
    {
     "ename": "KeyboardInterrupt",
     "evalue": "",
     "output_type": "error",
     "traceback": [
      "\u001b[1;31m---------------------------------------------------------------------------\u001b[0m",
      "\u001b[1;31mKeyboardInterrupt\u001b[0m                         Traceback (most recent call last)",
      "\u001b[1;32mc:\\Users\\adems\\Documents\\advent-of-code-23\\day_8.ipynb Cell 9\u001b[0m line \u001b[0;36m6\n\u001b[0;32m      <a href='vscode-notebook-cell:/c%3A/Users/adems/Documents/advent-of-code-23/day_8.ipynb#X11sZmlsZQ%3D%3D?line=3'>4</a>\u001b[0m temp \u001b[39m=\u001b[39m []\n\u001b[0;32m      <a href='vscode-notebook-cell:/c%3A/Users/adems/Documents/advent-of-code-23/day_8.ipynb#X11sZmlsZQ%3D%3D?line=4'>5</a>\u001b[0m \u001b[39mfor\u001b[39;00m location \u001b[39min\u001b[39;00m locations:\n\u001b[1;32m----> <a href='vscode-notebook-cell:/c%3A/Users/adems/Documents/advent-of-code-23/day_8.ipynb#X11sZmlsZQ%3D%3D?line=5'>6</a>\u001b[0m     temp\u001b[39m.\u001b[39mappend(mapping_dict[location][direction])\n\u001b[0;32m      <a href='vscode-notebook-cell:/c%3A/Users/adems/Documents/advent-of-code-23/day_8.ipynb#X11sZmlsZQ%3D%3D?line=6'>7</a>\u001b[0m locations \u001b[39m=\u001b[39m temp\n\u001b[0;32m      <a href='vscode-notebook-cell:/c%3A/Users/adems/Documents/advent-of-code-23/day_8.ipynb#X11sZmlsZQ%3D%3D?line=7'>8</a>\u001b[0m \u001b[39mif\u001b[39;00m \u001b[39mall\u001b[39m([point\u001b[39m.\u001b[39mendswith(\u001b[39m'\u001b[39m\u001b[39mZ\u001b[39m\u001b[39m'\u001b[39m) \u001b[39mfor\u001b[39;00m point \u001b[39min\u001b[39;00m locations]):\n",
      "\u001b[1;31mKeyboardInterrupt\u001b[0m: "
     ]
    }
   ],
   "source": [
    "part_2_iter = 0\n",
    "for direction in tqdm(part_2_directions):\n",
    "    part_2_iter += 1\n",
    "    temp = []\n",
    "    for location in locations:\n",
    "        temp.append(mapping_dict[location][direction])\n",
    "    locations = temp\n",
    "    if all([point.endswith('Z') for point in locations]):\n",
    "        break"
   ]
  }
 ],
 "metadata": {
  "kernelspec": {
   "display_name": ".venv",
   "language": "python",
   "name": "python3"
  },
  "language_info": {
   "codemirror_mode": {
    "name": "ipython",
    "version": 3
   },
   "file_extension": ".py",
   "mimetype": "text/x-python",
   "name": "python",
   "nbconvert_exporter": "python",
   "pygments_lexer": "ipython3",
   "version": "3.12.0"
  }
 },
 "nbformat": 4,
 "nbformat_minor": 2
}
