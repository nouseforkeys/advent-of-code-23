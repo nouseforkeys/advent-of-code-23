{
 "cells": [
  {
   "cell_type": "markdown",
   "metadata": {},
   "source": [
    "# Day 1\n",
    "## Part 1\n",
    "\n",
    "- Each line contains a calibration value which is comprised of the first and last number characters in the line.\n",
    "- The answer is the sum of all calibration values."
   ]
  },
  {
   "cell_type": "code",
   "execution_count": 14,
   "metadata": {},
   "outputs": [],
   "source": [
    "from tqdm import tqdm\n",
    "from IPython.display import Markdown, display\n",
    "\n",
    "from advent_of_code_utils.advent_of_code_utils import (\n",
    "    ParseConfig, parse_from_file\n",
    ")"
   ]
  },
  {
   "cell_type": "code",
   "execution_count": 11,
   "metadata": {},
   "outputs": [
    {
     "name": "stdout",
     "output_type": "stream",
     "text": [
      "['dqfournine5four2jmlqcgv', '7ggzdnjxndfive', 'twofive4threenine']\n"
     ]
    }
   ],
   "source": [
    "parser = ParseConfig('\\n', str)\n",
    "puzzle_input = parse_from_file('day_1.txt', parser)\n",
    "print(puzzle_input[:3])"
   ]
  },
  {
   "cell_type": "code",
   "execution_count": 13,
   "metadata": {},
   "outputs": [
    {
     "name": "stderr",
     "output_type": "stream",
     "text": [
      "100%|██████████| 1000/1000 [00:00<00:00, 18618.10it/s]\n"
     ]
    }
   ],
   "source": [
    "cal_vals = []\n",
    "for line in tqdm(puzzle_input):\n",
    "    temp = 0\n",
    "    for character in line:\n",
    "        try:\n",
    "            temp += int(character) * 10\n",
    "            break\n",
    "        except ValueError:\n",
    "            pass\n",
    "    \n",
    "    for character in reversed(line):\n",
    "        try:\n",
    "            temp += int(character)\n",
    "            break\n",
    "        except ValueError:\n",
    "            pass\n",
    "    \n",
    "    cal_vals.append(temp)\n"
   ]
  },
  {
   "cell_type": "code",
   "execution_count": 15,
   "metadata": {},
   "outputs": [
    {
     "data": {
      "text/markdown": [
       "### Solution\n",
       "The sum of the calibration values is: 54708"
      ],
      "text/plain": [
       "<IPython.core.display.Markdown object>"
      ]
     },
     "metadata": {},
     "output_type": "display_data"
    }
   ],
   "source": [
    "calibration_sum = sum(cal_vals)\n",
    "\n",
    "display(Markdown(\n",
    "    f'### Solution\\nThe sum of the calibration values is: {calibration_sum}'\n",
    "))"
   ]
  },
  {
   "cell_type": "markdown",
   "metadata": {},
   "source": [
    "## Part 2"
   ]
  },
  {
   "cell_type": "code",
   "execution_count": 21,
   "metadata": {},
   "outputs": [],
   "source": [
    "import re"
   ]
  },
  {
   "cell_type": "code",
   "execution_count": 63,
   "metadata": {},
   "outputs": [
    {
     "name": "stderr",
     "output_type": "stream",
     "text": [
      "100%|██████████| 1000/1000 [00:00<00:00, 15039.82it/s]\n"
     ]
    }
   ],
   "source": [
    "digit_strings = {\n",
    "    'one': 1,\n",
    "    'two': 2,\n",
    "    'three': 3,\n",
    "    'four': 4,\n",
    "    'five': 5,\n",
    "    'six': 6,\n",
    "    'seven': 7,\n",
    "    'eight': 8,\n",
    "    'nine': 9\n",
    "}\n",
    "\n",
    "cal_vals = []\n",
    "for line in tqdm(puzzle_input):\n",
    "    # create dict of all possible digit strings\n",
    "    results = {\n",
    "        pattern: re.finditer(pattern, line) for pattern in\n",
    "        list(map(str, range(1, 10))) + list(digit_strings.keys())\n",
    "    }\n",
    "\n",
    "    # filter the results by if they came up with something\n",
    "    options = []\n",
    "    for pattern, result in results.items():\n",
    "        if result is None:\n",
    "            continue\n",
    "        for group in result:\n",
    "            options.append((group.group(0), group.span()[0]))\n",
    "\n",
    "    # sort the options by start index\n",
    "    ranked = sorted(options, key = lambda x: x[1])\n",
    "\n",
    "    # attempt to look up the pattern and if not use the integer version instead\n",
    "    try:\n",
    "        value = 10 * digit_strings[ranked[0][0]]\n",
    "    except KeyError:\n",
    "        value = 10 * int(ranked[0][0])\n",
    "    try:\n",
    "        value += digit_strings[ranked[-1][0]]\n",
    "    except KeyError:\n",
    "        value += int(ranked[-1][0])\n",
    "    \n",
    "    cal_vals.append(value)"
   ]
  },
  {
   "cell_type": "code",
   "execution_count": 64,
   "metadata": {},
   "outputs": [
    {
     "data": {
      "text/markdown": [
       "### Solution\n",
       "The sum of the corrected calibration values is: 54087"
      ],
      "text/plain": [
       "<IPython.core.display.Markdown object>"
      ]
     },
     "metadata": {},
     "output_type": "display_data"
    }
   ],
   "source": [
    "calibration_sum = sum(cal_vals)\n",
    "\n",
    "display(Markdown(\n",
    "    f'### Solution\\nThe sum of the corrected calibration values is: '\n",
    "    f'{calibration_sum}'\n",
    "))"
   ]
  }
 ],
 "metadata": {
  "kernelspec": {
   "display_name": ".venv",
   "language": "python",
   "name": "python3"
  },
  "language_info": {
   "codemirror_mode": {
    "name": "ipython",
    "version": 3
   },
   "file_extension": ".py",
   "mimetype": "text/x-python",
   "name": "python",
   "nbconvert_exporter": "python",
   "pygments_lexer": "ipython3",
   "version": "3.12.0"
  }
 },
 "nbformat": 4,
 "nbformat_minor": 2
}
