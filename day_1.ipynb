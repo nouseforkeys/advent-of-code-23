{
 "cells": [
  {
   "cell_type": "markdown",
   "metadata": {},
   "source": [
    "# Day 1\n",
    "## Part 1\n",
    "\n",
    "- Each line contains a calibration value which is comprised of the first and last number characters in the line.\n",
    "- The answer is the sum of all calibration values."
   ]
  },
  {
   "cell_type": "code",
   "execution_count": 14,
   "metadata": {},
   "outputs": [],
   "source": [
    "from tqdm import tqdm\n",
    "from IPython.display import Markdown, display\n",
    "\n",
    "from advent_of_code_utils.advent_of_code_utils import (\n",
    "    ParseConfig, parse_from_file\n",
    ")"
   ]
  },
  {
   "cell_type": "code",
   "execution_count": 11,
   "metadata": {},
   "outputs": [
    {
     "name": "stdout",
     "output_type": "stream",
     "text": [
      "['dqfournine5four2jmlqcgv', '7ggzdnjxndfive', 'twofive4threenine']\n"
     ]
    }
   ],
   "source": [
    "parser = ParseConfig('\\n', str)\n",
    "puzzle_input = parse_from_file('day_1.txt', parser)\n",
    "print(puzzle_input[:3])"
   ]
  },
  {
   "cell_type": "code",
   "execution_count": 13,
   "metadata": {},
   "outputs": [
    {
     "name": "stderr",
     "output_type": "stream",
     "text": [
      "100%|██████████| 1000/1000 [00:00<00:00, 18618.10it/s]\n"
     ]
    }
   ],
   "source": [
    "cal_vals = []\n",
    "for line in tqdm(puzzle_input):\n",
    "    temp = 0\n",
    "    for character in line:\n",
    "        try:\n",
    "            temp += int(character) * 10\n",
    "            break\n",
    "        except ValueError:\n",
    "            pass\n",
    "    \n",
    "    for character in reversed(line):\n",
    "        try:\n",
    "            temp += int(character)\n",
    "            break\n",
    "        except ValueError:\n",
    "            pass\n",
    "    \n",
    "    cal_vals.append(temp)\n"
   ]
  },
  {
   "cell_type": "code",
   "execution_count": 15,
   "metadata": {},
   "outputs": [
    {
     "data": {
      "text/markdown": [
       "### Solution\n",
       "The sum of the calibration values is: 54708"
      ],
      "text/plain": [
       "<IPython.core.display.Markdown object>"
      ]
     },
     "metadata": {},
     "output_type": "display_data"
    }
   ],
   "source": [
    "calibration_sum = sum(cal_vals)\n",
    "\n",
    "display(Markdown(\n",
    "    f'### Solution\\nThe sum of the calibration values is: {calibration_sum}'\n",
    "))"
   ]
  }
 ],
 "metadata": {
  "kernelspec": {
   "display_name": ".venv",
   "language": "python",
   "name": "python3"
  },
  "language_info": {
   "codemirror_mode": {
    "name": "ipython",
    "version": 3
   },
   "file_extension": ".py",
   "mimetype": "text/x-python",
   "name": "python",
   "nbconvert_exporter": "python",
   "pygments_lexer": "ipython3",
   "version": "3.12.0"
  }
 },
 "nbformat": 4,
 "nbformat_minor": 2
}
