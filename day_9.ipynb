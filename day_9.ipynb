{
 "cells": [
  {
   "cell_type": "markdown",
   "metadata": {},
   "source": [
    "# Day 9\n",
    "\n",
    "## Part 1\n",
    "\n",
    "- Predict the next value in each sequence and sum them to get the answer.\n",
    "- To do this\n",
    "    1. find the difference between each value\n",
    "    1. if those differences are all zeros then the next value in the sequence above is the same as the ultimate value.\n",
    "    1. if not go down a level and find the differences again\n",
    "    1. eventually recursively pop up the stack to find the next value of the ultimate sequence."
   ]
  },
  {
   "cell_type": "code",
   "execution_count": 2,
   "metadata": {},
   "outputs": [],
   "source": [
    "from tqdm import tqdm\n",
    "\n",
    "from advent_of_code_utils.advent_of_code_utils import (\n",
    "    ParseConfig, parse_from_file, markdown\n",
    ")"
   ]
  },
  {
   "cell_type": "code",
   "execution_count": 3,
   "metadata": {},
   "outputs": [],
   "source": [
    "parser = ParseConfig('\\n', ParseConfig(' ', int))\n",
    "\n",
    "sequences = parse_from_file('puzzle_input\\\\day_9.txt', parser)"
   ]
  },
  {
   "cell_type": "code",
   "execution_count": 10,
   "metadata": {},
   "outputs": [
    {
     "name": "stdout",
     "output_type": "stream",
     "text": [
      "68\n"
     ]
    }
   ],
   "source": [
    "def get_subsequence(sequence: list[int]) -> list[int]:\n",
    "    \"\"\"returns the subsequence of the passed sequence\"\"\"\n",
    "    return [b - a for a, b in zip(sequence[:-1], sequence[1:])]\n",
    "\n",
    "def find_next_value(sequence: list[int]) -> int:\n",
    "    \"\"\"returns the next value in a sequence\"\"\"\n",
    "    temp = sequence\n",
    "    final_values = [temp[-1]]\n",
    "    while any(get_subsequence(temp)):\n",
    "        temp = get_subsequence(temp)\n",
    "        final_values.append(temp[-1])\n",
    "    \n",
    "    return sum(final_values)\n",
    "\n",
    "print(find_next_value([10, 13, 16, 21, 30, 45]))"
   ]
  },
  {
   "cell_type": "code",
   "execution_count": 11,
   "metadata": {},
   "outputs": [
    {
     "data": {
      "text/markdown": [
       "### Solution\n",
       "The sum of the extrapolated values is 2075724761"
      ],
      "text/plain": [
       "<IPython.core.display.Markdown object>"
      ]
     },
     "metadata": {},
     "output_type": "display_data"
    }
   ],
   "source": [
    "extrapolated_sum = sum([find_next_value(sequence) for sequence in sequences])\n",
    "markdown(\n",
    "    '### Solution',\n",
    "    f'The sum of the extrapolated values is {extrapolated_sum}'\n",
    ")"
   ]
  }
 ],
 "metadata": {
  "kernelspec": {
   "display_name": ".venv",
   "language": "python",
   "name": "python3"
  },
  "language_info": {
   "codemirror_mode": {
    "name": "ipython",
    "version": 3
   },
   "file_extension": ".py",
   "mimetype": "text/x-python",
   "name": "python",
   "nbconvert_exporter": "python",
   "pygments_lexer": "ipython3",
   "version": "3.12.0"
  }
 },
 "nbformat": 4,
 "nbformat_minor": 2
}
