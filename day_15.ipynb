{
 "cells": [
  {
   "cell_type": "markdown",
   "metadata": {},
   "source": [
    "# Day 15\n",
    "\n",
    "## Part 1\n",
    "\n",
    "- Today's challenge details a hashing algorithm:\n",
    "    - start with value = 0\n",
    "    - value += ascii(char)\n",
    "    - value *= 17\n",
    "    - value %= 256\n",
    "    - repeat for each char\n",
    "- Find the sum of the hashed initialisation sequence values"
   ]
  },
  {
   "cell_type": "code",
   "execution_count": 1,
   "metadata": {},
   "outputs": [],
   "source": [
    "from advent_of_code_utils.advent_of_code_utils import (\n",
    "    parse_from_file, ParseConfig, markdown\n",
    ")\n",
    "\n",
    "parser = ParseConfig(',', str)\n",
    "\n",
    "codes = parse_from_file('puzzle_input\\\\day_15.txt', parser)"
   ]
  },
  {
   "cell_type": "code",
   "execution_count": 3,
   "metadata": {},
   "outputs": [
    {
     "name": "stdout",
     "output_type": "stream",
     "text": [
      "rn=1 30\n",
      "cm- 253\n",
      "qp=3 97\n",
      "cm=2 47\n",
      "qp- 14\n",
      "pc=4 180\n",
      "ot=9 9\n",
      "ab=5 197\n",
      "pc- 48\n",
      "pc=6 214\n",
      "ot=7 231\n"
     ]
    }
   ],
   "source": [
    "def get_hash(code: str) -> int:\n",
    "    \"\"\"returns a byte value of the code string\"\"\"\n",
    "    value = 0\n",
    "    for char in code:\n",
    "        value += ord(char)\n",
    "        value *= 17\n",
    "        value %= 256\n",
    "    return value\n",
    "\n",
    "example = [\n",
    "    'rn=1','cm-','qp=3','cm=2','qp-','pc=4','ot=9','ab=5','pc-','pc=6','ot=7']\n",
    "\n",
    "for code in example:\n",
    "    print(code, get_hash(code))"
   ]
  },
  {
   "cell_type": "code",
   "execution_count": 4,
   "metadata": {},
   "outputs": [
    {
     "data": {
      "text/markdown": [
       "### Solution\n",
       "The total hash sum is: 515210"
      ],
      "text/plain": [
       "<IPython.core.display.Markdown object>"
      ]
     },
     "metadata": {},
     "output_type": "display_data"
    }
   ],
   "source": [
    "# cool that works let's solve!\n",
    "hash_sum = sum([get_hash(code) for code in codes])\n",
    "\n",
    "markdown(\n",
    "    '### Solution',\n",
    "    f'The total hash sum is: {hash_sum}'\n",
    ")"
   ]
  },
  {
   "cell_type": "markdown",
   "metadata": {},
   "source": [
    "## Part 2\n",
    "\n",
    "- the sequence tells you what boxes to put lenses into\n",
    "- The box number is the hash of the command\n",
    "- the lens label is the first letters of the codes\n",
    "- a `-` means take out the lens with that label from the box\n",
    "- an `=` has a focal length afterwards (from 1 to 9)\n",
    "    - replace a lens with the same label in that box if there is one\n",
    "    - otherwise put it at the back of lenses in the box\n",
    "- the total focusing power is the solution. This is found per lens by finding the product of:\n",
    "    - 1 + box number\n",
    "    - Slot number of the lense in the box (starting at 1)\n",
    "    - the focal length of the lens"
   ]
  },
  {
   "cell_type": "code",
   "execution_count": 13,
   "metadata": {},
   "outputs": [],
   "source": [
    "from dataclasses import dataclass\n",
    "\n",
    "from tqdm import tqdm"
   ]
  },
  {
   "cell_type": "code",
   "execution_count": 12,
   "metadata": {},
   "outputs": [],
   "source": [
    "@dataclass\n",
    "class Lens:\n",
    "    label: str\n",
    "    focal_length: int\n",
    "\n",
    "@dataclass\n",
    "class Box:\n",
    "    number: int\n",
    "    lenses: list[Lens]\n",
    "\n",
    "    def insert_lens(self, lens: Lens) -> None:\n",
    "        \"\"\"inserts a lens into this box in the right place\"\"\"\n",
    "        for index, item in enumerate(self.lenses):\n",
    "            if item.label == lens.label:\n",
    "                self.lenses[index] = lens\n",
    "                break\n",
    "        else:\n",
    "            self.lenses.append(lens)\n",
    "    \n",
    "    def remove_lens(self, lens: Lens) -> None:\n",
    "        \"\"\"removes a lens from this box\"\"\"\n",
    "        for index, item in enumerate(self.lenses):\n",
    "            if item.label == lens.label:\n",
    "                self.lenses.pop(index)\n",
    "                break\n",
    "    \n",
    "    @property\n",
    "    def focusing_power(self) -> int:\n",
    "        \"\"\"calculate the focusing power in the box\"\"\"\n",
    "        power = 0\n",
    "        for slot, lens in enumerate(self.lenses, start=1):\n",
    "            power += (1 + self.number) * (slot) * (lens.focal_length)\n",
    "        return power\n"
   ]
  },
  {
   "cell_type": "code",
   "execution_count": 20,
   "metadata": {},
   "outputs": [
    {
     "name": "stderr",
     "output_type": "stream",
     "text": [
      "100%|██████████| 4000/4000 [00:00<00:00, 269051.04it/s]\n"
     ]
    }
   ],
   "source": [
    "# ok let's run the codes!\n",
    "boxes = [Box(value, []) for value in range(256)]\n",
    "\n",
    "for code in tqdm(codes):\n",
    "    # see if it's an insert code\n",
    "    if '=' in code:\n",
    "        label, focal = code.split('=')\n",
    "        box = get_hash(label)\n",
    "        boxes[box].insert_lens(Lens(label, int(focal)))\n",
    "    else:\n",
    "        label = code[:-1]\n",
    "        box = get_hash(label)\n",
    "        boxes[box].remove_lens(Lens(code[:-1], None))\n",
    "\n",
    "total = sum([box.focusing_power for box in boxes])"
   ]
  },
  {
   "cell_type": "code",
   "execution_count": 21,
   "metadata": {},
   "outputs": [
    {
     "data": {
      "text/markdown": [
       "### Solution\n",
       "The total focusing power is: 246762"
      ],
      "text/plain": [
       "<IPython.core.display.Markdown object>"
      ]
     },
     "metadata": {},
     "output_type": "display_data"
    }
   ],
   "source": [
    "markdown(\n",
    "    '### Solution',\n",
    "    f'The total focusing power is: {total}'\n",
    ")"
   ]
  }
 ],
 "metadata": {
  "kernelspec": {
   "display_name": ".venv",
   "language": "python",
   "name": "python3"
  },
  "language_info": {
   "codemirror_mode": {
    "name": "ipython",
    "version": 3
   },
   "file_extension": ".py",
   "mimetype": "text/x-python",
   "name": "python",
   "nbconvert_exporter": "python",
   "pygments_lexer": "ipython3",
   "version": "3.12.0"
  }
 },
 "nbformat": 4,
 "nbformat_minor": 2
}
