{
 "cells": [
  {
   "cell_type": "markdown",
   "metadata": {},
   "source": [
    "# Day 15\n",
    "\n",
    "## Part 1\n",
    "\n",
    "- Today's challenge details a hashing algorithm:\n",
    "    - start with value = 0\n",
    "    - value += ascii(char)\n",
    "    - value *= 17\n",
    "    - value %= 256\n",
    "    - repeat for each char\n",
    "- Find the sum of the hashed initialisation sequence values"
   ]
  },
  {
   "cell_type": "code",
   "execution_count": 1,
   "metadata": {},
   "outputs": [],
   "source": [
    "from advent_of_code_utils.advent_of_code_utils import (\n",
    "    parse_from_file, ParseConfig, markdown\n",
    ")\n",
    "\n",
    "parser = ParseConfig(',', str)\n",
    "\n",
    "codes = parse_from_file('puzzle_input\\\\day_15.txt', parser)"
   ]
  },
  {
   "cell_type": "code",
   "execution_count": 3,
   "metadata": {},
   "outputs": [
    {
     "name": "stdout",
     "output_type": "stream",
     "text": [
      "rn=1 30\n",
      "cm- 253\n",
      "qp=3 97\n",
      "cm=2 47\n",
      "qp- 14\n",
      "pc=4 180\n",
      "ot=9 9\n",
      "ab=5 197\n",
      "pc- 48\n",
      "pc=6 214\n",
      "ot=7 231\n"
     ]
    }
   ],
   "source": [
    "def get_hash(code: str) -> int:\n",
    "    \"\"\"returns a byte value of the code string\"\"\"\n",
    "    value = 0\n",
    "    for char in code:\n",
    "        value += ord(char)\n",
    "        value *= 17\n",
    "        value %= 256\n",
    "    return value\n",
    "\n",
    "example = [\n",
    "    'rn=1','cm-','qp=3','cm=2','qp-','pc=4','ot=9','ab=5','pc-','pc=6','ot=7']\n",
    "\n",
    "for code in example:\n",
    "    print(code, get_hash(code))"
   ]
  },
  {
   "cell_type": "code",
   "execution_count": null,
   "metadata": {},
   "outputs": [],
   "source": []
  },
  {
   "cell_type": "code",
   "execution_count": 4,
   "metadata": {},
   "outputs": [
    {
     "data": {
      "text/markdown": [
       "### Solution\n",
       "The total hash sum is: 515210"
      ],
      "text/plain": [
       "<IPython.core.display.Markdown object>"
      ]
     },
     "metadata": {},
     "output_type": "display_data"
    }
   ],
   "source": [
    "# cool that works let's solve!\n",
    "hash_sum = sum([get_hash(code) for code in codes])\n",
    "\n",
    "markdown(\n",
    "    '### Solution',\n",
    "    f'The total hash sum is: {hash_sum}'\n",
    ")"
   ]
  }
 ],
 "metadata": {
  "kernelspec": {
   "display_name": ".venv",
   "language": "python",
   "name": "python3"
  },
  "language_info": {
   "codemirror_mode": {
    "name": "ipython",
    "version": 3
   },
   "file_extension": ".py",
   "mimetype": "text/x-python",
   "name": "python",
   "nbconvert_exporter": "python",
   "pygments_lexer": "ipython3",
   "version": "3.12.0"
  }
 },
 "nbformat": 4,
 "nbformat_minor": 2
}
