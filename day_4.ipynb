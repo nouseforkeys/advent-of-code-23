{
 "cells": [
  {
   "cell_type": "markdown",
   "metadata": {},
   "source": [
    "# Day 4\n",
    "\n",
    "## Part 1\n",
    "\n",
    "- Find the number of winning numbers drawn from each scrath card.\n",
    "- Winning numbers are listed on the left of a `|`.\n",
    "- Drawn numbers are listed on the right of it.\n",
    "- If there are any matches the score is $2^{matches - 1}$\n",
    "- Find the total score."
   ]
  },
  {
   "cell_type": "code",
   "execution_count": 1,
   "metadata": {},
   "outputs": [],
   "source": [
    "from tqdm import tqdm\n",
    "\n",
    "from advent_of_code_utils.advent_of_code_utils import (\n",
    "    ParseConfig, parse_from_file, markdown\n",
    ")"
   ]
  },
  {
   "cell_type": "code",
   "execution_count": 6,
   "metadata": {},
   "outputs": [],
   "source": [
    "def get_card_number(card_number: str) -> int:\n",
    "    \"\"\"returns the card number\"\"\"\n",
    "    return int(card_number.split()[-1])\n",
    "\n",
    "def convert_numbers(number_string: str) -> list[int]:\n",
    "    \"\"\"convers the strings of numbers to lists of ints\"\"\"\n",
    "    return [int(value) for value in number_string.split() if value != ' ']\n",
    "\n",
    "parser = ParseConfig('\\n', ParseConfig(': ', [\n",
    "    get_card_number,\n",
    "    ParseConfig(' | ', convert_numbers)\n",
    "]))\n",
    "\n",
    "cards = parse_from_file('puzzle_input\\\\day_4.txt', parser)"
   ]
  },
  {
   "cell_type": "code",
   "execution_count": 7,
   "metadata": {},
   "outputs": [
    {
     "name": "stderr",
     "output_type": "stream",
     "text": [
      "100%|██████████| 196/196 [00:00<00:00, 85974.02it/s]\n"
     ]
    }
   ],
   "source": [
    "total_score = 0\n",
    "for number, (winners, drawn) in tqdm(cards):\n",
    "    card_score = 0\n",
    "    for winner in winners:\n",
    "        if winner in drawn:\n",
    "            if card_score == 0:\n",
    "                card_score = 1\n",
    "            else:\n",
    "                card_score *= 2\n",
    "    total_score += card_score\n"
   ]
  },
  {
   "cell_type": "code",
   "execution_count": 8,
   "metadata": {},
   "outputs": [
    {
     "data": {
      "text/markdown": [
       "### Solution\n",
       "The total score from all the scratch cards is: 21568"
      ],
      "text/plain": [
       "<IPython.core.display.Markdown object>"
      ]
     },
     "metadata": {},
     "output_type": "display_data"
    }
   ],
   "source": [
    "markdown(\n",
    "    '### Solution',\n",
    "    f'The total score from all the scratch cards is: {total_score}'\n",
    ")"
   ]
  },
  {
   "cell_type": "markdown",
   "metadata": {},
   "source": [
    "## Part 2\n",
    "\n",
    "- you don't win points you win more scratch cards??\n",
    "- you win an extra copy of the next $n$ cards if you get $n$ matches by card number.\n",
    "- Now the question is how many cards do you end up with?"
   ]
  },
  {
   "cell_type": "code",
   "execution_count": 31,
   "metadata": {},
   "outputs": [
    {
     "name": "stderr",
     "output_type": "stream",
     "text": [
      "100%|██████████| 196/196 [00:00<00:00, 36423.73it/s]\n"
     ]
    }
   ],
   "source": [
    "# first calculate how many each one wins\n",
    "card_wins = {}\n",
    "for number, (winners, drawn) in tqdm(cards):\n",
    "    wins = 0\n",
    "    for winner in winners:\n",
    "        wins += winner in drawn\n",
    "    card_wins.update({number: wins})"
   ]
  },
  {
   "cell_type": "code",
   "execution_count": 32,
   "metadata": {},
   "outputs": [
    {
     "name": "stderr",
     "output_type": "stream",
     "text": [
      "100%|██████████| 196/196 [00:00<00:00, 178791.56it/s]\n"
     ]
    }
   ],
   "source": [
    "# now just tot-up the number of cards rather than doing it that many times\n",
    "card_totals = {1: 1}\n",
    "for card, wins in tqdm(card_wins.items()):\n",
    "    # how many of the current card there are\n",
    "    try:\n",
    "        multiplier = card_totals[card]\n",
    "    except KeyError:\n",
    "        card_totals.update({card: 1})\n",
    "        multiplier = 1\n",
    "    for offset in range(1, wins + 1):\n",
    "        try:\n",
    "            card_totals[card + offset] += multiplier\n",
    "        except KeyError:\n",
    "            card_totals.update({card + offset: 1 + multiplier})"
   ]
  },
  {
   "cell_type": "code",
   "execution_count": 33,
   "metadata": {},
   "outputs": [
    {
     "data": {
      "text/markdown": [
       "###Solution\n",
       "The total number of scratch cards at the end is: 11827296"
      ],
      "text/plain": [
       "<IPython.core.display.Markdown object>"
      ]
     },
     "metadata": {},
     "output_type": "display_data"
    }
   ],
   "source": [
    "total_cards = sum([copies for copies in card_totals.values()])\n",
    "\n",
    "markdown(\n",
    "    '###Solution',\n",
    "    f'The total number of scratch cards at the end is: {total_cards}'\n",
    ")"
   ]
  }
 ],
 "metadata": {
  "kernelspec": {
   "display_name": ".venv",
   "language": "python",
   "name": "python3"
  },
  "language_info": {
   "codemirror_mode": {
    "name": "ipython",
    "version": 3
   },
   "file_extension": ".py",
   "mimetype": "text/x-python",
   "name": "python",
   "nbconvert_exporter": "python",
   "pygments_lexer": "ipython3",
   "version": "3.12.0"
  }
 },
 "nbformat": 4,
 "nbformat_minor": 2
}
