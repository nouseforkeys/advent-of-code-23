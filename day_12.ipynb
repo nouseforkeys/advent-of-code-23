{
 "cells": [
  {
   "cell_type": "markdown",
   "metadata": {},
   "source": [
    "# Day 12\n",
    "\n",
    "## Part 1\n",
    "\n",
    "- In the first section:\n",
    "    - operation springs: `.`\n",
    "    - damaged springs: `#`\n",
    "    - unknown springs: `?`\n",
    "- In the section section the lengths of contiguous damaged springs are listed\n",
    "- It's a nonogram! or a picross?? whatever it's called... Well at least a single row of each.\n",
    "- Find out how many solutions there are to each row. The sum of all rows is the solution\n",
    "\n"
   ]
  },
  {
   "cell_type": "code",
   "execution_count": 84,
   "metadata": {},
   "outputs": [],
   "source": [
    "from tqdm import tqdm\n",
    "\n",
    "from advent_of_code_utils.advent_of_code_utils import (\n",
    "    ParseConfig, parse_from_file, markdown\n",
    ")"
   ]
  },
  {
   "cell_type": "code",
   "execution_count": 85,
   "metadata": {},
   "outputs": [],
   "source": [
    "parser = ParseConfig('\\n', ParseConfig(' ', [\n",
    "    str,\n",
    "    ParseConfig(',', int)\n",
    "]))\n",
    "\n",
    "input_values = parse_from_file('puzzle_input\\\\day_12.txt', parser)"
   ]
  },
  {
   "cell_type": "code",
   "execution_count": 86,
   "metadata": {},
   "outputs": [
    {
     "name": "stdout",
     "output_type": "stream",
     "text": [
      "10\n"
     ]
    }
   ],
   "source": [
    "def count_solutions(pattern: str, sequence: list[int], debug: bool = False):\n",
    "    \"\"\"finds the number of solutions possible from a pattern and sequence\"\"\"\n",
    "    # find all the unknowns\n",
    "    unknowns = []\n",
    "    possible = None\n",
    "    for index, char in enumerate(pattern):\n",
    "        if char == '?':\n",
    "            unknowns.append(index)\n",
    "            if possible is None:\n",
    "                possible = 1\n",
    "            else:\n",
    "                possible *= 2\n",
    "\n",
    "    if possible is None:\n",
    "        return 0\n",
    "\n",
    "    # test all possible sequences\n",
    "    key = tuple(sequence)\n",
    "    total_damaged = sum(sequence)\n",
    "    solutions = 0\n",
    "    for settings in range(2 *possible):\n",
    "        # generate pattern\n",
    "        test_pattern = ''\n",
    "        set_values = f'{settings:0{len(bin(possible)) - 2}b}'\n",
    "        index = 0\n",
    "        for char in pattern:\n",
    "            if char != '?':\n",
    "                test_pattern += char\n",
    "            else:\n",
    "                if set_values[index] == '0':\n",
    "                    test_pattern += '.'\n",
    "                else:\n",
    "                    test_pattern += '#'\n",
    "                index += 1\n",
    "        \n",
    "        # check if there's no point in trying because we don't have the right\n",
    "        # number of damaged\n",
    "        if test_pattern.count('#') != total_damaged:\n",
    "            continue\n",
    "\n",
    "        # find the sequence\n",
    "        test_sequence = []\n",
    "        previous = None\n",
    "        for char in test_pattern:\n",
    "            if char == '#':\n",
    "                if previous != char:\n",
    "                    test_sequence.append(1)\n",
    "                else:\n",
    "                    test_sequence[-1] += 1\n",
    "            previous = char\n",
    "\n",
    "        if tuple(test_sequence) == key:\n",
    "            solutions += 1\n",
    "    \n",
    "    if debug:\n",
    "        print(pattern, sequence, solutions)\n",
    "\n",
    "    return solutions\n",
    "\n",
    "example = '?###????????', [3,2,1]\n",
    "\n",
    "print(count_solutions(*example))"
   ]
  },
  {
   "cell_type": "code",
   "execution_count": 87,
   "metadata": {},
   "outputs": [
    {
     "name": "stderr",
     "output_type": "stream",
     "text": [
      "  0%|          | 0/1000 [00:00<?, ?it/s]"
     ]
    },
    {
     "name": "stderr",
     "output_type": "stream",
     "text": [
      "100%|██████████| 1000/1000 [00:13<00:00, 75.57it/s]\n"
     ]
    }
   ],
   "source": [
    "total_solutions = 0\n",
    "for pattern, sequence in tqdm(input_values):\n",
    "    total_solutions += count_solutions(pattern, sequence)"
   ]
  },
  {
   "cell_type": "code",
   "execution_count": 88,
   "metadata": {},
   "outputs": [
    {
     "data": {
      "text/markdown": [
       "### Solution\n",
       "The total number of possible solutions is: 6958"
      ],
      "text/plain": [
       "<IPython.core.display.Markdown object>"
      ]
     },
     "metadata": {},
     "output_type": "display_data"
    }
   ],
   "source": [
    "markdown(\n",
    "    '### Solution',\n",
    "    f'The total number of possible solutions is: {total_solutions}'\n",
    ")"
   ]
  }
 ],
 "metadata": {
  "kernelspec": {
   "display_name": ".venv",
   "language": "python",
   "name": "python3"
  },
  "language_info": {
   "codemirror_mode": {
    "name": "ipython",
    "version": 3
   },
   "file_extension": ".py",
   "mimetype": "text/x-python",
   "name": "python",
   "nbconvert_exporter": "python",
   "pygments_lexer": "ipython3",
   "version": "3.12.0"
  }
 },
 "nbformat": 4,
 "nbformat_minor": 2
}
