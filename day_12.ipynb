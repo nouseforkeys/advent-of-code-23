{
 "cells": [
  {
   "cell_type": "markdown",
   "metadata": {},
   "source": [
    "# Day 12\n",
    "\n",
    "## Part 1\n",
    "\n",
    "- In the first section:\n",
    "    - operation springs: `.`\n",
    "    - damaged springs: `#`\n",
    "    - unknown springs: `?`\n",
    "- In the section section the lengths of contiguous damaged springs are listed\n",
    "- It's a nonogram! or a picross?? whatever it's called... Well at least a single row of each.\n",
    "- Find out how many solutions there are to each row. The sum of all rows is the solution\n",
    "\n"
   ]
  },
  {
   "cell_type": "code",
   "execution_count": 84,
   "metadata": {},
   "outputs": [],
   "source": [
    "from tqdm import tqdm\n",
    "\n",
    "from advent_of_code_utils.advent_of_code_utils import (\n",
    "    ParseConfig, parse_from_file, markdown\n",
    ")"
   ]
  },
  {
   "cell_type": "code",
   "execution_count": 137,
   "metadata": {},
   "outputs": [],
   "source": [
    "parser = ParseConfig('\\n', ParseConfig(' ', [\n",
    "    str,\n",
    "    ParseConfig(',', int)\n",
    "]))\n",
    "\n",
    "input_values = parse_from_file('puzzle_input\\\\day_12.txt', parser)"
   ]
  },
  {
   "cell_type": "code",
   "execution_count": 162,
   "metadata": {},
   "outputs": [
    {
     "name": "stdout",
     "output_type": "stream",
     "text": [
      "10\n"
     ]
    }
   ],
   "source": [
    "def count_solutions(pattern: str, sequence: list[int], debug: bool = False):\n",
    "    \"\"\"finds the number of solutions possible from a pattern and sequence\"\"\"\n",
    "    # find all the unknowns\n",
    "    unknowns = []\n",
    "    possible = None\n",
    "    for index, char in enumerate(pattern):\n",
    "        if char == '?':\n",
    "            unknowns.append(index)\n",
    "            if possible is None:\n",
    "                possible = 1\n",
    "            else:\n",
    "                possible *= 2\n",
    "\n",
    "    if possible is None:\n",
    "        return 0\n",
    "\n",
    "    # test all possible sequences\n",
    "    key = tuple(sequence)\n",
    "    total_damaged = sum(sequence)\n",
    "    solutions = 0\n",
    "    value_length = len(bin(possible)) - 2\n",
    "\n",
    "    for settings in range(2 * possible):\n",
    "        # generate pattern\n",
    "        test_pattern = ''\n",
    "        set_values = f'{settings:0{value_length}b}'\n",
    "        index = 0\n",
    "        for char in pattern:\n",
    "            if char != '?':\n",
    "                test_pattern += char\n",
    "            else:\n",
    "                if set_values[index] == '0':\n",
    "                    test_pattern += '.'\n",
    "                else:\n",
    "                    test_pattern += '#'\n",
    "                index += 1\n",
    "        \n",
    "        # check if there's no point in trying because we don't have the right\n",
    "        # number of damaged\n",
    "        if test_pattern.count('#') != total_damaged:\n",
    "            continue\n",
    "\n",
    "        # find the sequence\n",
    "        test_sequence = []\n",
    "        previous = None\n",
    "        for char in test_pattern:\n",
    "            if char == '#':\n",
    "                if previous != char:\n",
    "                    test_sequence.append(1)\n",
    "                else:\n",
    "                    test_sequence[-1] += 1\n",
    "            previous = char\n",
    "\n",
    "        if tuple(test_sequence) == key:\n",
    "            solutions += 1\n",
    "\n",
    "    if debug:\n",
    "        print(pattern, sequence, solutions)\n",
    "\n",
    "    return solutions\n",
    "\n",
    "example = '?###????????', [3,2,1]\n",
    "\n",
    "print(count_solutions(*example))"
   ]
  },
  {
   "cell_type": "code",
   "execution_count": 87,
   "metadata": {},
   "outputs": [
    {
     "name": "stderr",
     "output_type": "stream",
     "text": [
      "  0%|          | 0/1000 [00:00<?, ?it/s]"
     ]
    },
    {
     "name": "stderr",
     "output_type": "stream",
     "text": [
      "100%|██████████| 1000/1000 [00:13<00:00, 75.57it/s]\n"
     ]
    }
   ],
   "source": [
    "total_solutions = 0\n",
    "for pattern, sequence in tqdm(input_values):\n",
    "    total_solutions += count_solutions(pattern, sequence)"
   ]
  },
  {
   "cell_type": "code",
   "execution_count": 88,
   "metadata": {},
   "outputs": [
    {
     "data": {
      "text/markdown": [
       "### Solution\n",
       "The total number of possible solutions is: 6958"
      ],
      "text/plain": [
       "<IPython.core.display.Markdown object>"
      ]
     },
     "metadata": {},
     "output_type": "display_data"
    }
   ],
   "source": [
    "markdown(\n",
    "    '### Solution',\n",
    "    f'The total number of possible solutions is: {total_solutions}'\n",
    ")"
   ]
  },
  {
   "cell_type": "markdown",
   "metadata": {},
   "source": [
    "## Part 2\n",
    "\n",
    "- Every pattern is actually the listed pattern 5 times delimted by a `?`\n",
    "- The sequence is also the listed sequence 5 times in a row"
   ]
  },
  {
   "cell_type": "markdown",
   "metadata": {},
   "source": [
    "I think we can break this down by seeing how many combinations there are for a sequence appended, prepended and prepended and appended by a `?`. Let's try!"
   ]
  },
  {
   "cell_type": "markdown",
   "metadata": {},
   "source": [
    "Testing with the examples it looks like we can find the total number of solutions with the following:\n",
    "\n",
    "$$\n",
    "n_{total} = n_{single} \\left( \\frac{n_{double}}{n_{single}} \\right)^4\n",
    "$$\n",
    "Where:\n",
    "- $n_{single}$ is the number of solutions to the base pattern\n",
    "- $n_{double}$ is the number of solutions to the base pattern repeated with a `?` between the sections and the base sequence repeated twice."
   ]
  },
  {
   "cell_type": "code",
   "execution_count": 165,
   "metadata": {},
   "outputs": [
    {
     "name": "stderr",
     "output_type": "stream",
     "text": [
      "  0%|          | 1/1000 [00:03<1:04:40,  3.88s/it]\n"
     ]
    },
    {
     "ename": "KeyboardInterrupt",
     "evalue": "",
     "output_type": "error",
     "traceback": [
      "\u001b[1;31m---------------------------------------------------------------------------\u001b[0m",
      "\u001b[1;31mKeyboardInterrupt\u001b[0m                         Traceback (most recent call last)",
      "\u001b[1;32mc:\\Users\\adems\\Documents\\advent-of-code-23\\day_12.ipynb Cell 10\u001b[0m line \u001b[0;36m4\n\u001b[0;32m      <a href='vscode-notebook-cell:/c%3A/Users/adems/Documents/advent-of-code-23/day_12.ipynb#X11sZmlsZQ%3D%3D?line=1'>2</a>\u001b[0m \u001b[39mfor\u001b[39;00m pattern, sequence \u001b[39min\u001b[39;00m tqdm(input_values):\n\u001b[0;32m      <a href='vscode-notebook-cell:/c%3A/Users/adems/Documents/advent-of-code-23/day_12.ipynb#X11sZmlsZQ%3D%3D?line=2'>3</a>\u001b[0m     solutions \u001b[39m=\u001b[39m count_solutions(pattern, sequence)\n\u001b[1;32m----> <a href='vscode-notebook-cell:/c%3A/Users/adems/Documents/advent-of-code-23/day_12.ipynb#X11sZmlsZQ%3D%3D?line=3'>4</a>\u001b[0m     double_solutions \u001b[39m=\u001b[39m count_solutions(\u001b[39m'\u001b[39;49m\u001b[39m?\u001b[39;49m\u001b[39m'\u001b[39;49m\u001b[39m.\u001b[39;49mjoin([pattern] \u001b[39m*\u001b[39;49m \u001b[39m2\u001b[39;49m), sequence \u001b[39m+\u001b[39;49m sequence)\n\u001b[0;32m      <a href='vscode-notebook-cell:/c%3A/Users/adems/Documents/advent-of-code-23/day_12.ipynb#X11sZmlsZQ%3D%3D?line=4'>5</a>\u001b[0m     solution_ratio \u001b[39m=\u001b[39m double_solutions \u001b[39m/\u001b[39m\u001b[39m/\u001b[39m solutions\n\u001b[0;32m      <a href='vscode-notebook-cell:/c%3A/Users/adems/Documents/advent-of-code-23/day_12.ipynb#X11sZmlsZQ%3D%3D?line=5'>6</a>\u001b[0m     \u001b[39mfor\u001b[39;00m _ \u001b[39min\u001b[39;00m \u001b[39mrange\u001b[39m(\u001b[39m4\u001b[39m):\n",
      "\u001b[1;32mc:\\Users\\adems\\Documents\\advent-of-code-23\\day_12.ipynb Cell 10\u001b[0m line \u001b[0;36m3\n\u001b[0;32m     <a href='vscode-notebook-cell:/c%3A/Users/adems/Documents/advent-of-code-23/day_12.ipynb#X11sZmlsZQ%3D%3D?line=34'>35</a>\u001b[0m         \u001b[39melse\u001b[39;00m:\n\u001b[0;32m     <a href='vscode-notebook-cell:/c%3A/Users/adems/Documents/advent-of-code-23/day_12.ipynb#X11sZmlsZQ%3D%3D?line=35'>36</a>\u001b[0m             test_pattern \u001b[39m+\u001b[39m\u001b[39m=\u001b[39m \u001b[39m'\u001b[39m\u001b[39m#\u001b[39m\u001b[39m'\u001b[39m\n\u001b[1;32m---> <a href='vscode-notebook-cell:/c%3A/Users/adems/Documents/advent-of-code-23/day_12.ipynb#X11sZmlsZQ%3D%3D?line=36'>37</a>\u001b[0m         index \u001b[39m+\u001b[39m\u001b[39m=\u001b[39m \u001b[39m1\u001b[39m\n\u001b[0;32m     <a href='vscode-notebook-cell:/c%3A/Users/adems/Documents/advent-of-code-23/day_12.ipynb#X11sZmlsZQ%3D%3D?line=38'>39</a>\u001b[0m \u001b[39m# check if there's no point in trying because we don't have the right\u001b[39;00m\n\u001b[0;32m     <a href='vscode-notebook-cell:/c%3A/Users/adems/Documents/advent-of-code-23/day_12.ipynb#X11sZmlsZQ%3D%3D?line=39'>40</a>\u001b[0m \u001b[39m# number of damaged\u001b[39;00m\n\u001b[0;32m     <a href='vscode-notebook-cell:/c%3A/Users/adems/Documents/advent-of-code-23/day_12.ipynb#X11sZmlsZQ%3D%3D?line=40'>41</a>\u001b[0m \u001b[39mif\u001b[39;00m test_pattern\u001b[39m.\u001b[39mcount(\u001b[39m'\u001b[39m\u001b[39m#\u001b[39m\u001b[39m'\u001b[39m) \u001b[39m!=\u001b[39m total_damaged:\n",
      "\u001b[1;31mKeyboardInterrupt\u001b[0m: "
     ]
    }
   ],
   "source": [
    "total_unfolded_solutions = 0\n",
    "for pattern, sequence in tqdm(input_values):\n",
    "    solutions = count_solutions(pattern, sequence)\n",
    "    double_solutions = count_solutions('?'.join([pattern] * 2), sequence + sequence)\n",
    "    solution_ratio = double_solutions // solutions\n",
    "    for _ in range(4):\n",
    "        solutions *= solution_ratio\n",
    "    total_unfolded_solutions += solutions"
   ]
  },
  {
   "cell_type": "markdown",
   "metadata": {},
   "source": [
    "This was going to take several hours to run so I'd better think of a faster solution"
   ]
  },
  {
   "cell_type": "code",
   "execution_count": 239,
   "metadata": {},
   "outputs": [
    {
     "name": "stdout",
     "output_type": "stream",
     "text": [
      "('?###????????', [3, 2, 1])\n",
      "10\n"
     ]
    }
   ],
   "source": [
    "def count_solutions_2(pattern: str, sequence: list[int]) -> int:\n",
    "    \"\"\"a different approach to finding the number of possiblities\"\"\"\n",
    "    # determine what actually needs to match\n",
    "    checks = []\n",
    "    for index, char in enumerate(pattern):\n",
    "        if char != '?':\n",
    "            checks.append(index)\n",
    "\n",
    "    # now generate all possible patterns from the sequence and check them\n",
    "    starts = []\n",
    "    index = 0\n",
    "    for width in sequence:\n",
    "        starts.append(index)\n",
    "        index += width + 1\n",
    "    \n",
    "    solutions = 0\n",
    "    offsets = [*starts]\n",
    "    max_index = len(offsets) - 1\n",
    "    max_length = len(pattern)\n",
    "    index = max_index\n",
    "    while index >= 0:\n",
    "        while offsets[-1] + sequence[-1] <= max_length:\n",
    "            if index < max_index:\n",
    "                index += 1\n",
    "                continue\n",
    "\n",
    "            # catch any that have no checks\n",
    "            if len(checks) == 0:\n",
    "                solutions += 1\n",
    "            else:\n",
    "                # build pattern and test\n",
    "                test_pattern = ''\n",
    "                pointer = 0\n",
    "                for start, width in zip(offsets, sequence):\n",
    "                    test_pattern += '.'*(start - pointer)\n",
    "                    test_pattern += '#'*(width)\n",
    "                    pointer = start + width\n",
    "                    # stop adding more if we've passed the last check index\n",
    "                    if len(test_pattern) > checks[-1]:\n",
    "                        break\n",
    "                else:\n",
    "                    test_pattern += '.'*(1 + checks[-1] - len(test_pattern))\n",
    "                # print(test_pattern, pattern, offsets, index)\n",
    "\n",
    "                # else check what we need to match\n",
    "                if all([\n",
    "                    test_pattern[check] == pattern[check] for check in checks\n",
    "                ]):\n",
    "                    solutions += 1\n",
    "\n",
    "            offsets[index] += 1\n",
    "\n",
    "        # if we hit the end of the pattern increase the index and work out\n",
    "        # where to start next\n",
    "        index -= 1\n",
    "        offsets[index] += 1\n",
    "        for reset_index in range(index + 1, max_index + 1):\n",
    "            offsets[reset_index] = offsets[reset_index - 1] + sequence[reset_index - 1] + 1\n",
    "    \n",
    "    return solutions\n",
    "\n",
    "print(example)\n",
    "print(count_solutions_2(*example))\n"
   ]
  },
  {
   "cell_type": "code",
   "execution_count": 240,
   "metadata": {},
   "outputs": [
    {
     "name": "stderr",
     "output_type": "stream",
     "text": [
      "100%|██████████| 1000/1000 [01:57<00:00,  8.49it/s]\n"
     ]
    }
   ],
   "source": [
    "total_unfolded_solutions = 0\n",
    "for pattern, sequence in tqdm(input_values):\n",
    "    solutions = count_solutions_2(pattern, sequence)\n",
    "    double_solutions = count_solutions_2('?'.join([pattern] * 2), sequence + sequence)\n",
    "    solution_ratio = double_solutions // solutions\n",
    "    for _ in range(4):\n",
    "        solutions *= solution_ratio\n",
    "    total_unfolded_solutions += solutions"
   ]
  },
  {
   "cell_type": "code",
   "execution_count": 241,
   "metadata": {},
   "outputs": [
    {
     "data": {
      "text/markdown": [
       "### Solution\n",
       "The total number of possible unfolded solutions is: 3443361720254"
      ],
      "text/plain": [
       "<IPython.core.display.Markdown object>"
      ]
     },
     "metadata": {},
     "output_type": "display_data"
    }
   ],
   "source": [
    "markdown(\n",
    "    '### Solution',\n",
    "    'The total number of possible unfolded solutions is: '\n",
    "    f'{total_unfolded_solutions}'\n",
    ")"
   ]
  }
 ],
 "metadata": {
  "kernelspec": {
   "display_name": ".venv",
   "language": "python",
   "name": "python3"
  },
  "language_info": {
   "codemirror_mode": {
    "name": "ipython",
    "version": 3
   },
   "file_extension": ".py",
   "mimetype": "text/x-python",
   "name": "python",
   "nbconvert_exporter": "python",
   "pygments_lexer": "ipython3",
   "version": "3.12.0"
  }
 },
 "nbformat": 4,
 "nbformat_minor": 2
}
